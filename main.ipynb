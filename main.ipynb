{
 "cells": [
  {
   "cell_type": "code",
   "execution_count": 1,
   "id": "printable-appendix",
   "metadata": {},
   "outputs": [],
   "source": [
    "import tensorflow as tf\n",
    "import numpy as np\n",
    "import matplotlib.pyplot as plt\n",
    "from tensorflow.keras.layers import Input\n",
    "from sklearn.model_selection import train_test_split\n",
    "from data_aug import color_normalize\n",
    "from my_models import ResNet\n",
    "from train import train, test"
   ]
  },
  {
   "cell_type": "code",
   "execution_count": 2,
   "id": "preliminary-madness",
   "metadata": {
    "tags": []
   },
   "outputs": [
    {
     "name": "stdout",
     "output_type": "stream",
     "text": [
      "x_train.shape= (45000, 32, 32, 3)\n",
      "x_val.shape= (5000, 32, 32, 3)\n",
      "y_train.shape= (45000, 10)\n",
      "y_val.shape= (5000, 10)\n",
      "test_images.shape= (10000, 32, 32, 3)\n",
      "test_labels.shape= (10000, 10)\n",
      "Model: \"model\"\n",
      "__________________________________________________________________________________________________\n",
      "Layer (type)                    Output Shape         Param #     Connected to                     \n",
      "==================================================================================================\n",
      "input_1 (InputLayer)            [(None, 32, 32, 3)]  0                                            \n",
      "__________________________________________________________________________________________________\n",
      "conv2d (Conv2D)                 (None, 32, 32, 16)   448         input_1[0][0]                    \n",
      "__________________________________________________________________________________________________\n",
      "batch_normalization (BatchNorma (None, 32, 32, 16)   64          conv2d[0][0]                     \n",
      "__________________________________________________________________________________________________\n",
      "activation (Activation)         (None, 32, 32, 16)   0           batch_normalization[0][0]        \n",
      "__________________________________________________________________________________________________\n",
      "conv2d_1 (Conv2D)               (None, 32, 32, 16)   2320        activation[0][0]                 \n",
      "__________________________________________________________________________________________________\n",
      "batch_normalization_1 (BatchNor (None, 32, 32, 16)   64          conv2d_1[0][0]                   \n",
      "__________________________________________________________________________________________________\n",
      "activation_1 (Activation)       (None, 32, 32, 16)   0           batch_normalization_1[0][0]      \n",
      "__________________________________________________________________________________________________\n",
      "conv2d_2 (Conv2D)               (None, 32, 32, 16)   2320        activation_1[0][0]               \n",
      "__________________________________________________________________________________________________\n",
      "add (Add)                       (None, 32, 32, 16)   0           conv2d_2[0][0]                   \n",
      "                                                                 conv2d[0][0]                     \n",
      "__________________________________________________________________________________________________\n",
      "batch_normalization_2 (BatchNor (None, 32, 32, 16)   64          add[0][0]                        \n",
      "__________________________________________________________________________________________________\n",
      "activation_2 (Activation)       (None, 32, 32, 16)   0           batch_normalization_2[0][0]      \n",
      "__________________________________________________________________________________________________\n",
      "conv2d_3 (Conv2D)               (None, 32, 32, 16)   2320        activation_2[0][0]               \n",
      "__________________________________________________________________________________________________\n",
      "batch_normalization_3 (BatchNor (None, 32, 32, 16)   64          conv2d_3[0][0]                   \n",
      "__________________________________________________________________________________________________\n",
      "activation_3 (Activation)       (None, 32, 32, 16)   0           batch_normalization_3[0][0]      \n",
      "__________________________________________________________________________________________________\n",
      "conv2d_4 (Conv2D)               (None, 32, 32, 16)   2320        activation_3[0][0]               \n",
      "__________________________________________________________________________________________________\n",
      "add_1 (Add)                     (None, 32, 32, 16)   0           conv2d_4[0][0]                   \n",
      "                                                                 add[0][0]                        \n",
      "__________________________________________________________________________________________________\n",
      "batch_normalization_4 (BatchNor (None, 32, 32, 16)   64          add_1[0][0]                      \n",
      "__________________________________________________________________________________________________\n",
      "activation_4 (Activation)       (None, 32, 32, 16)   0           batch_normalization_4[0][0]      \n",
      "__________________________________________________________________________________________________\n",
      "conv2d_5 (Conv2D)               (None, 32, 32, 16)   2320        activation_4[0][0]               \n",
      "__________________________________________________________________________________________________\n",
      "batch_normalization_5 (BatchNor (None, 32, 32, 16)   64          conv2d_5[0][0]                   \n",
      "__________________________________________________________________________________________________\n",
      "activation_5 (Activation)       (None, 32, 32, 16)   0           batch_normalization_5[0][0]      \n",
      "__________________________________________________________________________________________________\n",
      "conv2d_6 (Conv2D)               (None, 32, 32, 16)   2320        activation_5[0][0]               \n",
      "__________________________________________________________________________________________________\n",
      "add_2 (Add)                     (None, 32, 32, 16)   0           conv2d_6[0][0]                   \n",
      "                                                                 add_1[0][0]                      \n",
      "__________________________________________________________________________________________________\n",
      "batch_normalization_6 (BatchNor (None, 32, 32, 16)   64          add_2[0][0]                      \n",
      "__________________________________________________________________________________________________\n",
      "activation_6 (Activation)       (None, 32, 32, 16)   0           batch_normalization_6[0][0]      \n",
      "__________________________________________________________________________________________________\n",
      "conv2d_8 (Conv2D)               (None, 16, 16, 32)   4640        activation_6[0][0]               \n",
      "__________________________________________________________________________________________________\n",
      "batch_normalization_7 (BatchNor (None, 16, 16, 32)   128         conv2d_8[0][0]                   \n",
      "__________________________________________________________________________________________________\n",
      "activation_7 (Activation)       (None, 16, 16, 32)   0           batch_normalization_7[0][0]      \n",
      "__________________________________________________________________________________________________\n",
      "conv2d_9 (Conv2D)               (None, 16, 16, 32)   9248        activation_7[0][0]               \n",
      "__________________________________________________________________________________________________\n",
      "conv2d_7 (Conv2D)               (None, 16, 16, 32)   544         activation_6[0][0]               \n",
      "__________________________________________________________________________________________________\n",
      "add_3 (Add)                     (None, 16, 16, 32)   0           conv2d_9[0][0]                   \n",
      "                                                                 conv2d_7[0][0]                   \n",
      "__________________________________________________________________________________________________\n",
      "batch_normalization_8 (BatchNor (None, 16, 16, 32)   128         add_3[0][0]                      \n",
      "__________________________________________________________________________________________________\n",
      "activation_8 (Activation)       (None, 16, 16, 32)   0           batch_normalization_8[0][0]      \n",
      "__________________________________________________________________________________________________\n",
      "conv2d_10 (Conv2D)              (None, 16, 16, 32)   9248        activation_8[0][0]               \n",
      "__________________________________________________________________________________________________\n",
      "batch_normalization_9 (BatchNor (None, 16, 16, 32)   128         conv2d_10[0][0]                  \n",
      "__________________________________________________________________________________________________\n",
      "activation_9 (Activation)       (None, 16, 16, 32)   0           batch_normalization_9[0][0]      \n",
      "__________________________________________________________________________________________________\n",
      "conv2d_11 (Conv2D)              (None, 16, 16, 32)   9248        activation_9[0][0]               \n",
      "__________________________________________________________________________________________________\n",
      "add_4 (Add)                     (None, 16, 16, 32)   0           conv2d_11[0][0]                  \n",
      "                                                                 add_3[0][0]                      \n",
      "__________________________________________________________________________________________________\n",
      "batch_normalization_10 (BatchNo (None, 16, 16, 32)   128         add_4[0][0]                      \n",
      "__________________________________________________________________________________________________\n",
      "activation_10 (Activation)      (None, 16, 16, 32)   0           batch_normalization_10[0][0]     \n",
      "__________________________________________________________________________________________________\n",
      "conv2d_12 (Conv2D)              (None, 16, 16, 32)   9248        activation_10[0][0]              \n",
      "__________________________________________________________________________________________________\n",
      "batch_normalization_11 (BatchNo (None, 16, 16, 32)   128         conv2d_12[0][0]                  \n",
      "__________________________________________________________________________________________________\n",
      "activation_11 (Activation)      (None, 16, 16, 32)   0           batch_normalization_11[0][0]     \n",
      "__________________________________________________________________________________________________\n",
      "conv2d_13 (Conv2D)              (None, 16, 16, 32)   9248        activation_11[0][0]              \n",
      "__________________________________________________________________________________________________\n",
      "add_5 (Add)                     (None, 16, 16, 32)   0           conv2d_13[0][0]                  \n",
      "                                                                 add_4[0][0]                      \n",
      "__________________________________________________________________________________________________\n",
      "batch_normalization_12 (BatchNo (None, 16, 16, 32)   128         add_5[0][0]                      \n",
      "__________________________________________________________________________________________________\n",
      "activation_12 (Activation)      (None, 16, 16, 32)   0           batch_normalization_12[0][0]     \n",
      "__________________________________________________________________________________________________\n",
      "conv2d_15 (Conv2D)              (None, 8, 8, 64)     18496       activation_12[0][0]              \n",
      "__________________________________________________________________________________________________\n",
      "batch_normalization_13 (BatchNo (None, 8, 8, 64)     256         conv2d_15[0][0]                  \n",
      "__________________________________________________________________________________________________\n",
      "activation_13 (Activation)      (None, 8, 8, 64)     0           batch_normalization_13[0][0]     \n",
      "__________________________________________________________________________________________________\n",
      "conv2d_16 (Conv2D)              (None, 8, 8, 64)     36928       activation_13[0][0]              \n",
      "__________________________________________________________________________________________________\n",
      "conv2d_14 (Conv2D)              (None, 8, 8, 64)     2112        activation_12[0][0]              \n",
      "__________________________________________________________________________________________________\n",
      "add_6 (Add)                     (None, 8, 8, 64)     0           conv2d_16[0][0]                  \n",
      "                                                                 conv2d_14[0][0]                  \n",
      "__________________________________________________________________________________________________\n",
      "batch_normalization_14 (BatchNo (None, 8, 8, 64)     256         add_6[0][0]                      \n",
      "__________________________________________________________________________________________________\n",
      "activation_14 (Activation)      (None, 8, 8, 64)     0           batch_normalization_14[0][0]     \n",
      "__________________________________________________________________________________________________\n",
      "conv2d_17 (Conv2D)              (None, 8, 8, 64)     36928       activation_14[0][0]              \n",
      "__________________________________________________________________________________________________\n",
      "batch_normalization_15 (BatchNo (None, 8, 8, 64)     256         conv2d_17[0][0]                  \n",
      "__________________________________________________________________________________________________\n",
      "activation_15 (Activation)      (None, 8, 8, 64)     0           batch_normalization_15[0][0]     \n",
      "__________________________________________________________________________________________________\n",
      "conv2d_18 (Conv2D)              (None, 8, 8, 64)     36928       activation_15[0][0]              \n",
      "__________________________________________________________________________________________________\n",
      "add_7 (Add)                     (None, 8, 8, 64)     0           conv2d_18[0][0]                  \n",
      "                                                                 add_6[0][0]                      \n",
      "__________________________________________________________________________________________________\n",
      "batch_normalization_16 (BatchNo (None, 8, 8, 64)     256         add_7[0][0]                      \n",
      "__________________________________________________________________________________________________\n",
      "activation_16 (Activation)      (None, 8, 8, 64)     0           batch_normalization_16[0][0]     \n",
      "__________________________________________________________________________________________________\n",
      "conv2d_19 (Conv2D)              (None, 8, 8, 64)     36928       activation_16[0][0]              \n",
      "__________________________________________________________________________________________________\n",
      "batch_normalization_17 (BatchNo (None, 8, 8, 64)     256         conv2d_19[0][0]                  \n",
      "__________________________________________________________________________________________________\n",
      "activation_17 (Activation)      (None, 8, 8, 64)     0           batch_normalization_17[0][0]     \n",
      "__________________________________________________________________________________________________\n",
      "conv2d_20 (Conv2D)              (None, 8, 8, 64)     36928       activation_17[0][0]              \n",
      "__________________________________________________________________________________________________\n",
      "add_8 (Add)                     (None, 8, 8, 64)     0           conv2d_20[0][0]                  \n",
      "                                                                 add_7[0][0]                      \n",
      "__________________________________________________________________________________________________\n",
      "batch_normalization_18 (BatchNo (None, 8, 8, 64)     256         add_8[0][0]                      \n",
      "__________________________________________________________________________________________________\n",
      "activation_18 (Activation)      (None, 8, 8, 64)     0           batch_normalization_18[0][0]     \n",
      "__________________________________________________________________________________________________\n",
      "average_pooling2d (AveragePooli (None, 1, 1, 64)     0           activation_18[0][0]              \n",
      "__________________________________________________________________________________________________\n",
      "flatten (Flatten)               (None, 64)           0           average_pooling2d[0][0]          \n",
      "__________________________________________________________________________________________________\n",
      "dense (Dense)                   (None, 10)           650         flatten[0][0]                    \n",
      "==================================================================================================\n",
      "Total params: 274,442\n",
      "Trainable params: 273,066\n",
      "Non-trainable params: 1,376\n",
      "__________________________________________________________________________________________________\n"
     ]
    }
   ],
   "source": [
    "# gpu config\n",
    "# physical_devices = tf.config.experimental.list_physical_devices('GPU')\n",
    "# tf.config.experimental.set_memory_growth(device=physical_devices[0], enable=True)\n",
    "if __name__ == '__main__':\n",
    "    batch_size = 128\n",
    "    train_num = 45000\n",
    "    iterations_per_epoch = int(train_num / batch_size)\n",
    "    boundaries = [50 * iterations_per_epoch, 60 * iterations_per_epoch]\n",
    "    epoch_num = 90\n",
    "    learning_rate = [0.1, 0.01, 0.001]\n",
    "    stack_n = 3  # layers = stack_n * 6 + 2\n",
    "\n",
    "    # load data\n",
    "    (train_images, train_labels), (test_images, test_labels) = tf.keras.datasets.cifar10.load_data()\n",
    "    train_labels = tf.keras.utils.to_categorical(train_labels, 10)\n",
    "    test_labels = tf.keras.utils.to_categorical(test_labels, 10)\n",
    "\n",
    "    train_images = np.array(train_images, dtype=np.float32)\n",
    "    test_images = np.array(test_images, dtype=np.float32)\n",
    "    train_images, test_images = color_normalize(train_images, test_images)\n",
    "    x_train, x_val, y_train, y_val = train_test_split(train_images, train_labels, test_size = 0.1)\n",
    "    print(\"x_train.shape=\", x_train.shape)\n",
    "    print(\"x_val.shape=\", x_val.shape)\n",
    "    print(\"y_train.shape=\", y_train.shape)\n",
    "    print(\"y_val.shape=\", y_val.shape)\n",
    "    print(\"test_images.shape=\", test_images.shape)\n",
    "    print(\"test_labels.shape=\", test_labels.shape)\n",
    "    # get model\n",
    "    img_input = Input(shape=(32, 32, 3))\n",
    "    output = ResNet(inputs = img_input, stack_n = stack_n)\n",
    "    model = tf.keras.Model(img_input, output)\n",
    "\n",
    "    # show\n",
    "    model.summary()\n",
    "\n",
    "    "
   ]
  },
  {
   "cell_type": "code",
   "execution_count": 3,
   "id": "original-sphere",
   "metadata": {
    "collapsed": true,
    "jupyter": {
     "outputs_hidden": true
    },
    "tags": []
   },
   "outputs": [
    {
     "name": "stdout",
     "output_type": "stream",
     "text": [
      "epoch 0\n"
     ]
    },
    {
     "name": "stderr",
     "output_type": "stream",
     "text": [
      "100%|██████████| 351/351 [00:09<00:00, 37.17it/s]\n",
      "  0%|          | 0/25 [00:00<?, ?it/s]"
     ]
    },
    {
     "name": "stdout",
     "output_type": "stream",
     "text": [
      "ce_loss:1.402042, l2_loss:0.048083, accuracy:0.486467\n"
     ]
    },
    {
     "name": "stderr",
     "output_type": "stream",
     "text": [
      "100%|██████████| 25/25 [00:00<00:00, 50.78it/s]\n"
     ]
    },
    {
     "name": "stdout",
     "output_type": "stream",
     "text": [
      "test, loss:1.126064, accuracy:0.583800\n",
      "epoch 1\n"
     ]
    },
    {
     "name": "stderr",
     "output_type": "stream",
     "text": [
      "100%|██████████| 351/351 [00:05<00:00, 67.36it/s]\n",
      "100%|██████████| 25/25 [00:00<00:00, 188.76it/s]\n"
     ]
    },
    {
     "name": "stdout",
     "output_type": "stream",
     "text": [
      "ce_loss:0.952139, l2_loss:0.058643, accuracy:0.662104\n",
      "test, loss:1.052650, accuracy:0.637200\n",
      "epoch 2\n"
     ]
    },
    {
     "name": "stderr",
     "output_type": "stream",
     "text": [
      "100%|██████████| 351/351 [00:05<00:00, 68.42it/s]\n",
      "100%|██████████| 25/25 [00:00<00:00, 193.92it/s]\n"
     ]
    },
    {
     "name": "stdout",
     "output_type": "stream",
     "text": [
      "ce_loss:0.769934, l2_loss:0.067664, accuracy:0.730413\n",
      "test, loss:0.770707, accuracy:0.737400\n",
      "epoch 3\n"
     ]
    },
    {
     "name": "stderr",
     "output_type": "stream",
     "text": [
      "100%|██████████| 351/351 [00:05<00:00, 68.24it/s]\n",
      "100%|██████████| 25/25 [00:00<00:00, 195.77it/s]\n"
     ]
    },
    {
     "name": "stdout",
     "output_type": "stream",
     "text": [
      "ce_loss:0.675102, l2_loss:0.075347, accuracy:0.764712\n",
      "test, loss:0.709764, accuracy:0.761200\n",
      "epoch 4\n"
     ]
    },
    {
     "name": "stderr",
     "output_type": "stream",
     "text": [
      "100%|██████████| 351/351 [00:05<00:00, 67.83it/s]\n",
      "100%|██████████| 25/25 [00:00<00:00, 201.02it/s]\n"
     ]
    },
    {
     "name": "stdout",
     "output_type": "stream",
     "text": [
      "ce_loss:0.605330, l2_loss:0.082199, accuracy:0.790932\n",
      "test, loss:0.634911, accuracy:0.781400\n",
      "epoch 5\n"
     ]
    },
    {
     "name": "stderr",
     "output_type": "stream",
     "text": [
      "100%|██████████| 351/351 [00:05<00:00, 68.22it/s]\n",
      "100%|██████████| 25/25 [00:00<00:00, 198.05it/s]\n"
     ]
    },
    {
     "name": "stdout",
     "output_type": "stream",
     "text": [
      "ce_loss:0.553655, l2_loss:0.088235, accuracy:0.807737\n",
      "test, loss:0.661681, accuracy:0.765400\n",
      "epoch 6\n"
     ]
    },
    {
     "name": "stderr",
     "output_type": "stream",
     "text": [
      "100%|██████████| 351/351 [00:05<00:00, 67.71it/s]\n",
      "100%|██████████| 25/25 [00:00<00:00, 183.38it/s]\n"
     ]
    },
    {
     "name": "stdout",
     "output_type": "stream",
     "text": [
      "ce_loss:0.517442, l2_loss:0.093665, accuracy:0.820068\n",
      "test, loss:0.712682, accuracy:0.776000\n",
      "epoch 7\n"
     ]
    },
    {
     "name": "stderr",
     "output_type": "stream",
     "text": [
      "100%|██████████| 351/351 [00:05<00:00, 67.12it/s]\n",
      "100%|██████████| 25/25 [00:00<00:00, 184.73it/s]\n"
     ]
    },
    {
     "name": "stdout",
     "output_type": "stream",
     "text": [
      "ce_loss:0.484615, l2_loss:0.098689, accuracy:0.834201\n",
      "test, loss:0.546224, accuracy:0.812600\n",
      "epoch 8\n"
     ]
    },
    {
     "name": "stderr",
     "output_type": "stream",
     "text": [
      "100%|██████████| 351/351 [00:05<00:00, 67.44it/s]\n",
      "100%|██████████| 25/25 [00:00<00:00, 196.19it/s]\n"
     ]
    },
    {
     "name": "stdout",
     "output_type": "stream",
     "text": [
      "ce_loss:0.464986, l2_loss:0.103378, accuracy:0.838519\n",
      "test, loss:0.553957, accuracy:0.807200\n",
      "epoch 9\n"
     ]
    },
    {
     "name": "stderr",
     "output_type": "stream",
     "text": [
      "100%|██████████| 351/351 [00:05<00:00, 67.97it/s]\n",
      "100%|██████████| 25/25 [00:00<00:00, 179.10it/s]\n"
     ]
    },
    {
     "name": "stdout",
     "output_type": "stream",
     "text": [
      "ce_loss:0.443898, l2_loss:0.107724, accuracy:0.845308\n",
      "test, loss:0.617054, accuracy:0.800600\n",
      "epoch 10\n"
     ]
    },
    {
     "name": "stderr",
     "output_type": "stream",
     "text": [
      "100%|██████████| 351/351 [00:05<00:00, 67.22it/s]\n",
      "100%|██████████| 25/25 [00:00<00:00, 185.47it/s]\n"
     ]
    },
    {
     "name": "stdout",
     "output_type": "stream",
     "text": [
      "ce_loss:0.425376, l2_loss:0.111517, accuracy:0.853076\n",
      "test, loss:0.514097, accuracy:0.825200\n",
      "epoch 11\n"
     ]
    },
    {
     "name": "stderr",
     "output_type": "stream",
     "text": [
      "100%|██████████| 351/351 [00:05<00:00, 67.12it/s]\n",
      "100%|██████████| 25/25 [00:00<00:00, 194.13it/s]\n"
     ]
    },
    {
     "name": "stdout",
     "output_type": "stream",
     "text": [
      "ce_loss:0.405693, l2_loss:0.115104, accuracy:0.860644\n",
      "test, loss:0.583000, accuracy:0.813400\n",
      "epoch 12\n"
     ]
    },
    {
     "name": "stderr",
     "output_type": "stream",
     "text": [
      "100%|██████████| 351/351 [00:05<00:00, 67.81it/s]\n",
      "100%|██████████| 25/25 [00:00<00:00, 187.50it/s]\n"
     ]
    },
    {
     "name": "stdout",
     "output_type": "stream",
     "text": [
      "ce_loss:0.396013, l2_loss:0.118459, accuracy:0.864094\n",
      "test, loss:0.541258, accuracy:0.824800\n",
      "epoch 13\n"
     ]
    },
    {
     "name": "stderr",
     "output_type": "stream",
     "text": [
      "100%|██████████| 351/351 [00:05<00:00, 66.79it/s]\n",
      "100%|██████████| 25/25 [00:00<00:00, 186.58it/s]\n"
     ]
    },
    {
     "name": "stdout",
     "output_type": "stream",
     "text": [
      "ce_loss:0.381967, l2_loss:0.121743, accuracy:0.867499\n",
      "test, loss:0.545127, accuracy:0.827600\n",
      "epoch 14\n"
     ]
    },
    {
     "name": "stderr",
     "output_type": "stream",
     "text": [
      "100%|██████████| 351/351 [00:05<00:00, 66.43it/s]\n",
      "100%|██████████| 25/25 [00:00<00:00, 185.86it/s]\n"
     ]
    },
    {
     "name": "stdout",
     "output_type": "stream",
     "text": [
      "ce_loss:0.365949, l2_loss:0.124934, accuracy:0.871016\n",
      "test, loss:0.512968, accuracy:0.834200\n",
      "epoch 15\n"
     ]
    },
    {
     "name": "stderr",
     "output_type": "stream",
     "text": [
      "100%|██████████| 351/351 [00:05<00:00, 66.43it/s]\n",
      "100%|██████████| 25/25 [00:00<00:00, 191.25it/s]\n"
     ]
    },
    {
     "name": "stdout",
     "output_type": "stream",
     "text": [
      "ce_loss:0.356734, l2_loss:0.127715, accuracy:0.877003\n",
      "test, loss:0.479988, accuracy:0.842000\n",
      "epoch 16\n"
     ]
    },
    {
     "name": "stderr",
     "output_type": "stream",
     "text": [
      "100%|██████████| 351/351 [00:05<00:00, 67.44it/s]\n",
      "100%|██████████| 25/25 [00:00<00:00, 189.74it/s]\n"
     ]
    },
    {
     "name": "stdout",
     "output_type": "stream",
     "text": [
      "ce_loss:0.349412, l2_loss:0.130457, accuracy:0.878361\n",
      "test, loss:0.448612, accuracy:0.852400\n",
      "epoch 17\n"
     ]
    },
    {
     "name": "stderr",
     "output_type": "stream",
     "text": [
      "100%|██████████| 351/351 [00:05<00:00, 67.26it/s]\n",
      "100%|██████████| 25/25 [00:00<00:00, 179.89it/s]\n"
     ]
    },
    {
     "name": "stdout",
     "output_type": "stream",
     "text": [
      "ce_loss:0.342399, l2_loss:0.133013, accuracy:0.881655\n",
      "test, loss:0.518433, accuracy:0.838600\n",
      "epoch 18\n"
     ]
    },
    {
     "name": "stderr",
     "output_type": "stream",
     "text": [
      "100%|██████████| 351/351 [00:05<00:00, 67.19it/s]\n",
      "100%|██████████| 25/25 [00:00<00:00, 177.09it/s]\n"
     ]
    },
    {
     "name": "stdout",
     "output_type": "stream",
     "text": [
      "ce_loss:0.332495, l2_loss:0.135549, accuracy:0.884860\n",
      "test, loss:0.511587, accuracy:0.836400\n",
      "epoch 19\n"
     ]
    },
    {
     "name": "stderr",
     "output_type": "stream",
     "text": [
      "100%|██████████| 351/351 [00:05<00:00, 67.55it/s]\n",
      "100%|██████████| 25/25 [00:00<00:00, 189.92it/s]\n"
     ]
    },
    {
     "name": "stdout",
     "output_type": "stream",
     "text": [
      "ce_loss:0.328053, l2_loss:0.137881, accuracy:0.886285\n",
      "test, loss:0.450353, accuracy:0.851600\n",
      "epoch 20\n"
     ]
    },
    {
     "name": "stderr",
     "output_type": "stream",
     "text": [
      "100%|██████████| 351/351 [00:05<00:00, 68.04it/s]\n",
      "100%|██████████| 25/25 [00:00<00:00, 191.34it/s]\n"
     ]
    },
    {
     "name": "stdout",
     "output_type": "stream",
     "text": [
      "ce_loss:0.316600, l2_loss:0.139925, accuracy:0.889623\n",
      "test, loss:0.522653, accuracy:0.835600\n",
      "epoch 21\n"
     ]
    },
    {
     "name": "stderr",
     "output_type": "stream",
     "text": [
      "100%|██████████| 351/351 [00:05<00:00, 68.38it/s]\n",
      "100%|██████████| 25/25 [00:00<00:00, 196.33it/s]\n"
     ]
    },
    {
     "name": "stdout",
     "output_type": "stream",
     "text": [
      "ce_loss:0.313498, l2_loss:0.141717, accuracy:0.891137\n",
      "test, loss:0.552905, accuracy:0.831000\n",
      "epoch 22\n"
     ]
    },
    {
     "name": "stderr",
     "output_type": "stream",
     "text": [
      "100%|██████████| 351/351 [00:05<00:00, 68.82it/s]\n",
      "100%|██████████| 25/25 [00:00<00:00, 200.18it/s]\n"
     ]
    },
    {
     "name": "stdout",
     "output_type": "stream",
     "text": [
      "ce_loss:0.305834, l2_loss:0.143595, accuracy:0.892472\n",
      "test, loss:0.445196, accuracy:0.850400\n",
      "epoch 23\n"
     ]
    },
    {
     "name": "stderr",
     "output_type": "stream",
     "text": [
      "100%|██████████| 351/351 [00:05<00:00, 68.69it/s]\n",
      "100%|██████████| 25/25 [00:00<00:00, 191.46it/s]\n"
     ]
    },
    {
     "name": "stdout",
     "output_type": "stream",
     "text": [
      "ce_loss:0.299551, l2_loss:0.145371, accuracy:0.895522\n",
      "test, loss:0.443774, accuracy:0.855000\n",
      "epoch 24\n"
     ]
    },
    {
     "name": "stderr",
     "output_type": "stream",
     "text": [
      "100%|██████████| 351/351 [00:05<00:00, 68.65it/s]\n",
      "100%|██████████| 25/25 [00:00<00:00, 196.76it/s]\n"
     ]
    },
    {
     "name": "stdout",
     "output_type": "stream",
     "text": [
      "ce_loss:0.292249, l2_loss:0.147212, accuracy:0.897881\n",
      "test, loss:0.463013, accuracy:0.844600\n",
      "epoch 25\n"
     ]
    },
    {
     "name": "stderr",
     "output_type": "stream",
     "text": [
      "100%|██████████| 351/351 [00:05<00:00, 68.73it/s]\n",
      "100%|██████████| 25/25 [00:00<00:00, 204.43it/s]\n"
     ]
    },
    {
     "name": "stdout",
     "output_type": "stream",
     "text": [
      "ce_loss:0.291511, l2_loss:0.148894, accuracy:0.899194\n",
      "test, loss:0.522205, accuracy:0.840800\n",
      "epoch 26\n"
     ]
    },
    {
     "name": "stderr",
     "output_type": "stream",
     "text": [
      "100%|██████████| 351/351 [00:05<00:00, 68.55it/s]\n",
      "100%|██████████| 25/25 [00:00<00:00, 195.18it/s]\n"
     ]
    },
    {
     "name": "stdout",
     "output_type": "stream",
     "text": [
      "ce_loss:0.284987, l2_loss:0.150557, accuracy:0.900285\n",
      "test, loss:0.448073, accuracy:0.861200\n",
      "epoch 27\n"
     ]
    },
    {
     "name": "stderr",
     "output_type": "stream",
     "text": [
      "100%|██████████| 351/351 [00:05<00:00, 68.62it/s]\n",
      "100%|██████████| 25/25 [00:00<00:00, 198.75it/s]\n"
     ]
    },
    {
     "name": "stdout",
     "output_type": "stream",
     "text": [
      "ce_loss:0.283126, l2_loss:0.152408, accuracy:0.902088\n",
      "test, loss:0.474642, accuracy:0.845000\n",
      "epoch 28\n"
     ]
    },
    {
     "name": "stderr",
     "output_type": "stream",
     "text": [
      "100%|██████████| 351/351 [00:05<00:00, 68.66it/s]\n",
      "100%|██████████| 25/25 [00:00<00:00, 186.67it/s]\n"
     ]
    },
    {
     "name": "stdout",
     "output_type": "stream",
     "text": [
      "ce_loss:0.276034, l2_loss:0.154018, accuracy:0.903735\n",
      "test, loss:0.457925, accuracy:0.860400\n",
      "epoch 29\n"
     ]
    },
    {
     "name": "stderr",
     "output_type": "stream",
     "text": [
      "100%|██████████| 351/351 [00:05<00:00, 68.64it/s]\n",
      "100%|██████████| 25/25 [00:00<00:00, 190.73it/s]\n"
     ]
    },
    {
     "name": "stdout",
     "output_type": "stream",
     "text": [
      "ce_loss:0.275870, l2_loss:0.155571, accuracy:0.903757\n",
      "test, loss:0.414659, accuracy:0.869600\n",
      "epoch 30\n"
     ]
    },
    {
     "name": "stderr",
     "output_type": "stream",
     "text": [
      "100%|██████████| 351/351 [00:05<00:00, 68.70it/s]\n",
      "100%|██████████| 25/25 [00:00<00:00, 189.89it/s]\n"
     ]
    },
    {
     "name": "stdout",
     "output_type": "stream",
     "text": [
      "ce_loss:0.270483, l2_loss:0.156681, accuracy:0.905738\n",
      "test, loss:0.421053, accuracy:0.867400\n",
      "epoch 31\n"
     ]
    },
    {
     "name": "stderr",
     "output_type": "stream",
     "text": [
      "100%|██████████| 351/351 [00:05<00:00, 68.99it/s]\n",
      "100%|██████████| 25/25 [00:00<00:00, 190.70it/s]\n"
     ]
    },
    {
     "name": "stdout",
     "output_type": "stream",
     "text": [
      "ce_loss:0.267607, l2_loss:0.158114, accuracy:0.904937\n",
      "test, loss:0.444750, accuracy:0.858400\n",
      "epoch 32\n"
     ]
    },
    {
     "name": "stderr",
     "output_type": "stream",
     "text": [
      "100%|██████████| 351/351 [00:05<00:00, 69.80it/s]\n",
      "100%|██████████| 25/25 [00:00<00:00, 194.25it/s]\n"
     ]
    },
    {
     "name": "stdout",
     "output_type": "stream",
     "text": [
      "ce_loss:0.265085, l2_loss:0.159285, accuracy:0.906384\n",
      "test, loss:0.417706, accuracy:0.869600\n",
      "epoch 33\n"
     ]
    },
    {
     "name": "stderr",
     "output_type": "stream",
     "text": [
      "100%|██████████| 351/351 [00:05<00:00, 69.52it/s]\n",
      "100%|██████████| 25/25 [00:00<00:00, 203.05it/s]\n"
     ]
    },
    {
     "name": "stdout",
     "output_type": "stream",
     "text": [
      "ce_loss:0.262124, l2_loss:0.160540, accuracy:0.908186\n",
      "test, loss:0.448343, accuracy:0.858800\n",
      "epoch 34\n"
     ]
    },
    {
     "name": "stderr",
     "output_type": "stream",
     "text": [
      "100%|██████████| 351/351 [00:05<00:00, 70.09it/s]\n",
      "100%|██████████| 25/25 [00:00<00:00, 196.14it/s]\n"
     ]
    },
    {
     "name": "stdout",
     "output_type": "stream",
     "text": [
      "ce_loss:0.259054, l2_loss:0.161721, accuracy:0.908965\n",
      "test, loss:0.375652, accuracy:0.878800\n",
      "epoch 35\n"
     ]
    },
    {
     "name": "stderr",
     "output_type": "stream",
     "text": [
      "100%|██████████| 351/351 [00:04<00:00, 70.50it/s]\n",
      "100%|██████████| 25/25 [00:00<00:00, 199.12it/s]\n"
     ]
    },
    {
     "name": "stdout",
     "output_type": "stream",
     "text": [
      "ce_loss:0.251915, l2_loss:0.162842, accuracy:0.912059\n",
      "test, loss:0.414381, accuracy:0.874000\n",
      "epoch 36\n"
     ]
    },
    {
     "name": "stderr",
     "output_type": "stream",
     "text": [
      "100%|██████████| 351/351 [00:05<00:00, 68.43it/s]\n",
      "100%|██████████| 25/25 [00:00<00:00, 197.97it/s]\n"
     ]
    },
    {
     "name": "stdout",
     "output_type": "stream",
     "text": [
      "ce_loss:0.249972, l2_loss:0.163739, accuracy:0.912371\n",
      "test, loss:0.403791, accuracy:0.872600\n",
      "epoch 37\n"
     ]
    },
    {
     "name": "stderr",
     "output_type": "stream",
     "text": [
      "100%|██████████| 351/351 [00:05<00:00, 69.57it/s]\n",
      "100%|██████████| 25/25 [00:00<00:00, 194.12it/s]\n"
     ]
    },
    {
     "name": "stdout",
     "output_type": "stream",
     "text": [
      "ce_loss:0.245632, l2_loss:0.164609, accuracy:0.913595\n",
      "test, loss:0.465924, accuracy:0.857800\n",
      "epoch 38\n"
     ]
    },
    {
     "name": "stderr",
     "output_type": "stream",
     "text": [
      "100%|██████████| 351/351 [00:05<00:00, 69.88it/s]\n",
      "100%|██████████| 25/25 [00:00<00:00, 193.43it/s]\n"
     ]
    },
    {
     "name": "stdout",
     "output_type": "stream",
     "text": [
      "ce_loss:0.244364, l2_loss:0.165586, accuracy:0.914663\n",
      "test, loss:0.478885, accuracy:0.854000\n",
      "epoch 39\n"
     ]
    },
    {
     "name": "stderr",
     "output_type": "stream",
     "text": [
      "100%|██████████| 351/351 [00:05<00:00, 69.99it/s]\n",
      "100%|██████████| 25/25 [00:00<00:00, 197.27it/s]\n"
     ]
    },
    {
     "name": "stdout",
     "output_type": "stream",
     "text": [
      "ce_loss:0.243652, l2_loss:0.166532, accuracy:0.916422\n",
      "test, loss:0.503468, accuracy:0.854200\n",
      "epoch 40\n"
     ]
    },
    {
     "name": "stderr",
     "output_type": "stream",
     "text": [
      "100%|██████████| 351/351 [00:05<00:00, 69.53it/s]\n",
      "100%|██████████| 25/25 [00:00<00:00, 201.67it/s]\n"
     ]
    },
    {
     "name": "stdout",
     "output_type": "stream",
     "text": [
      "ce_loss:0.237781, l2_loss:0.167513, accuracy:0.914997\n",
      "test, loss:0.518500, accuracy:0.835400\n",
      "epoch 41\n"
     ]
    },
    {
     "name": "stderr",
     "output_type": "stream",
     "text": [
      "100%|██████████| 351/351 [00:05<00:00, 69.08it/s]\n",
      "100%|██████████| 25/25 [00:00<00:00, 200.08it/s]\n"
     ]
    },
    {
     "name": "stdout",
     "output_type": "stream",
     "text": [
      "ce_loss:0.239848, l2_loss:0.168365, accuracy:0.915999\n",
      "test, loss:0.431527, accuracy:0.867000\n",
      "epoch 42\n"
     ]
    },
    {
     "name": "stderr",
     "output_type": "stream",
     "text": [
      "100%|██████████| 351/351 [00:05<00:00, 69.11it/s]\n",
      "100%|██████████| 25/25 [00:00<00:00, 187.47it/s]\n"
     ]
    },
    {
     "name": "stdout",
     "output_type": "stream",
     "text": [
      "ce_loss:0.240294, l2_loss:0.169402, accuracy:0.916043\n",
      "test, loss:0.414270, accuracy:0.870200\n",
      "epoch 43\n"
     ]
    },
    {
     "name": "stderr",
     "output_type": "stream",
     "text": [
      "100%|██████████| 351/351 [00:05<00:00, 68.47it/s]\n",
      "100%|██████████| 25/25 [00:00<00:00, 202.26it/s]\n"
     ]
    },
    {
     "name": "stdout",
     "output_type": "stream",
     "text": [
      "ce_loss:0.232797, l2_loss:0.170022, accuracy:0.918225\n",
      "test, loss:0.411361, accuracy:0.871200\n",
      "epoch 44\n"
     ]
    },
    {
     "name": "stderr",
     "output_type": "stream",
     "text": [
      "100%|██████████| 351/351 [00:05<00:00, 68.57it/s]\n",
      "100%|██████████| 25/25 [00:00<00:00, 180.79it/s]\n"
     ]
    },
    {
     "name": "stdout",
     "output_type": "stream",
     "text": [
      "ce_loss:0.236417, l2_loss:0.170971, accuracy:0.916711\n",
      "test, loss:0.400472, accuracy:0.871400\n",
      "epoch 45\n"
     ]
    },
    {
     "name": "stderr",
     "output_type": "stream",
     "text": [
      "100%|██████████| 351/351 [00:05<00:00, 68.29it/s]\n",
      "100%|██████████| 25/25 [00:00<00:00, 191.19it/s]\n"
     ]
    },
    {
     "name": "stdout",
     "output_type": "stream",
     "text": [
      "ce_loss:0.229128, l2_loss:0.171714, accuracy:0.919026\n",
      "test, loss:0.432885, accuracy:0.864800\n",
      "epoch 46\n"
     ]
    },
    {
     "name": "stderr",
     "output_type": "stream",
     "text": [
      "100%|██████████| 351/351 [00:05<00:00, 69.48it/s]\n",
      "100%|██████████| 25/25 [00:00<00:00, 194.19it/s]\n"
     ]
    },
    {
     "name": "stdout",
     "output_type": "stream",
     "text": [
      "ce_loss:0.227385, l2_loss:0.172211, accuracy:0.919404\n",
      "test, loss:0.375710, accuracy:0.881000\n",
      "epoch 47\n"
     ]
    },
    {
     "name": "stderr",
     "output_type": "stream",
     "text": [
      "100%|██████████| 351/351 [00:05<00:00, 69.24it/s]\n",
      "100%|██████████| 25/25 [00:00<00:00, 189.95it/s]\n"
     ]
    },
    {
     "name": "stdout",
     "output_type": "stream",
     "text": [
      "ce_loss:0.227164, l2_loss:0.172652, accuracy:0.920873\n",
      "test, loss:0.433780, accuracy:0.866600\n",
      "epoch 48\n"
     ]
    },
    {
     "name": "stderr",
     "output_type": "stream",
     "text": [
      "100%|██████████| 351/351 [00:05<00:00, 68.61it/s]\n",
      "100%|██████████| 25/25 [00:00<00:00, 202.42it/s]\n"
     ]
    },
    {
     "name": "stdout",
     "output_type": "stream",
     "text": [
      "ce_loss:0.223538, l2_loss:0.173560, accuracy:0.920673\n",
      "test, loss:0.416239, accuracy:0.876000\n",
      "epoch 49\n"
     ]
    },
    {
     "name": "stderr",
     "output_type": "stream",
     "text": [
      "100%|██████████| 351/351 [00:05<00:00, 69.17it/s]\n",
      "100%|██████████| 25/25 [00:00<00:00, 202.41it/s]\n"
     ]
    },
    {
     "name": "stdout",
     "output_type": "stream",
     "text": [
      "ce_loss:0.215374, l2_loss:0.174031, accuracy:0.924346\n",
      "test, loss:0.393688, accuracy:0.881800\n",
      "epoch 50\n"
     ]
    },
    {
     "name": "stderr",
     "output_type": "stream",
     "text": [
      "100%|██████████| 351/351 [00:05<00:00, 69.79it/s]\n",
      "100%|██████████| 25/25 [00:00<00:00, 193.75it/s]\n"
     ]
    },
    {
     "name": "stdout",
     "output_type": "stream",
     "text": [
      "ce_loss:0.161482, l2_loss:0.173226, accuracy:0.944467\n",
      "test, loss:0.295028, accuracy:0.908000\n",
      "epoch 51\n"
     ]
    },
    {
     "name": "stderr",
     "output_type": "stream",
     "text": [
      "100%|██████████| 351/351 [00:05<00:00, 69.42it/s]\n",
      "100%|██████████| 25/25 [00:00<00:00, 202.81it/s]\n"
     ]
    },
    {
     "name": "stdout",
     "output_type": "stream",
     "text": [
      "ce_loss:0.122970, l2_loss:0.172231, accuracy:0.958534\n",
      "test, loss:0.288165, accuracy:0.907200\n",
      "epoch 52\n"
     ]
    },
    {
     "name": "stderr",
     "output_type": "stream",
     "text": [
      "100%|██████████| 351/351 [00:05<00:00, 69.36it/s]\n",
      "100%|██████████| 25/25 [00:00<00:00, 190.35it/s]\n"
     ]
    },
    {
     "name": "stdout",
     "output_type": "stream",
     "text": [
      "ce_loss:0.111758, l2_loss:0.171237, accuracy:0.961627\n",
      "test, loss:0.293848, accuracy:0.909400\n",
      "epoch 53\n"
     ]
    },
    {
     "name": "stderr",
     "output_type": "stream",
     "text": [
      "100%|██████████| 351/351 [00:05<00:00, 69.41it/s]\n",
      "100%|██████████| 25/25 [00:00<00:00, 197.73it/s]\n"
     ]
    },
    {
     "name": "stdout",
     "output_type": "stream",
     "text": [
      "ce_loss:0.105946, l2_loss:0.170240, accuracy:0.963208\n",
      "test, loss:0.294953, accuracy:0.908200\n",
      "epoch 54\n"
     ]
    },
    {
     "name": "stderr",
     "output_type": "stream",
     "text": [
      "100%|██████████| 351/351 [00:05<00:00, 69.60it/s]\n",
      "100%|██████████| 25/25 [00:00<00:00, 198.13it/s]\n"
     ]
    },
    {
     "name": "stdout",
     "output_type": "stream",
     "text": [
      "ce_loss:0.098837, l2_loss:0.169249, accuracy:0.967147\n",
      "test, loss:0.293955, accuracy:0.909800\n",
      "epoch 55\n"
     ]
    },
    {
     "name": "stderr",
     "output_type": "stream",
     "text": [
      "100%|██████████| 351/351 [00:05<00:00, 69.37it/s]\n",
      "100%|██████████| 25/25 [00:00<00:00, 197.73it/s]\n"
     ]
    },
    {
     "name": "stdout",
     "output_type": "stream",
     "text": [
      "ce_loss:0.096071, l2_loss:0.168254, accuracy:0.967081\n",
      "test, loss:0.302550, accuracy:0.909000\n",
      "epoch 56\n"
     ]
    },
    {
     "name": "stderr",
     "output_type": "stream",
     "text": [
      "100%|██████████| 351/351 [00:05<00:00, 69.20it/s]\n",
      "100%|██████████| 25/25 [00:00<00:00, 193.06it/s]\n"
     ]
    },
    {
     "name": "stdout",
     "output_type": "stream",
     "text": [
      "ce_loss:0.090455, l2_loss:0.167270, accuracy:0.968950\n",
      "test, loss:0.305136, accuracy:0.912400\n",
      "epoch 57\n"
     ]
    },
    {
     "name": "stderr",
     "output_type": "stream",
     "text": [
      "100%|██████████| 351/351 [00:05<00:00, 69.27it/s]\n",
      "100%|██████████| 25/25 [00:00<00:00, 199.95it/s]\n"
     ]
    },
    {
     "name": "stdout",
     "output_type": "stream",
     "text": [
      "ce_loss:0.086745, l2_loss:0.166288, accuracy:0.970709\n",
      "test, loss:0.310101, accuracy:0.911600\n",
      "epoch 58\n"
     ]
    },
    {
     "name": "stderr",
     "output_type": "stream",
     "text": [
      "100%|██████████| 351/351 [00:05<00:00, 69.08it/s]\n",
      "100%|██████████| 25/25 [00:00<00:00, 193.00it/s]\n"
     ]
    },
    {
     "name": "stdout",
     "output_type": "stream",
     "text": [
      "ce_loss:0.082551, l2_loss:0.165312, accuracy:0.972089\n",
      "test, loss:0.310342, accuracy:0.912400\n",
      "epoch 59\n"
     ]
    },
    {
     "name": "stderr",
     "output_type": "stream",
     "text": [
      "100%|██████████| 351/351 [00:05<00:00, 69.69it/s]\n",
      "100%|██████████| 25/25 [00:00<00:00, 187.05it/s]\n"
     ]
    },
    {
     "name": "stdout",
     "output_type": "stream",
     "text": [
      "ce_loss:0.080449, l2_loss:0.164341, accuracy:0.972489\n",
      "test, loss:0.318719, accuracy:0.911600\n",
      "epoch 60\n"
     ]
    },
    {
     "name": "stderr",
     "output_type": "stream",
     "text": [
      "100%|██████████| 351/351 [00:05<00:00, 69.13it/s]\n",
      "100%|██████████| 25/25 [00:00<00:00, 196.80it/s]\n"
     ]
    },
    {
     "name": "stdout",
     "output_type": "stream",
     "text": [
      "ce_loss:0.072505, l2_loss:0.164216, accuracy:0.975694\n",
      "test, loss:0.313951, accuracy:0.912800\n",
      "epoch 61\n"
     ]
    },
    {
     "name": "stderr",
     "output_type": "stream",
     "text": [
      "100%|██████████| 351/351 [00:05<00:00, 69.17it/s]\n",
      "100%|██████████| 25/25 [00:00<00:00, 199.94it/s]\n"
     ]
    },
    {
     "name": "stdout",
     "output_type": "stream",
     "text": [
      "ce_loss:0.071388, l2_loss:0.164113, accuracy:0.976763\n",
      "test, loss:0.309676, accuracy:0.913000\n",
      "epoch 62\n"
     ]
    },
    {
     "name": "stderr",
     "output_type": "stream",
     "text": [
      "100%|██████████| 351/351 [00:05<00:00, 69.85it/s]\n",
      "100%|██████████| 25/25 [00:00<00:00, 199.58it/s]\n"
     ]
    },
    {
     "name": "stdout",
     "output_type": "stream",
     "text": [
      "ce_loss:0.071703, l2_loss:0.164009, accuracy:0.975672\n",
      "test, loss:0.310343, accuracy:0.913000\n",
      "epoch 63\n"
     ]
    },
    {
     "name": "stderr",
     "output_type": "stream",
     "text": [
      "100%|██████████| 351/351 [00:05<00:00, 69.87it/s]\n",
      "100%|██████████| 25/25 [00:00<00:00, 200.70it/s]\n"
     ]
    },
    {
     "name": "stdout",
     "output_type": "stream",
     "text": [
      "ce_loss:0.071662, l2_loss:0.163906, accuracy:0.976295\n",
      "test, loss:0.308333, accuracy:0.912200\n",
      "epoch 64\n"
     ]
    },
    {
     "name": "stderr",
     "output_type": "stream",
     "text": [
      "100%|██████████| 351/351 [00:05<00:00, 69.87it/s]\n",
      "100%|██████████| 25/25 [00:00<00:00, 193.03it/s]\n"
     ]
    },
    {
     "name": "stdout",
     "output_type": "stream",
     "text": [
      "ce_loss:0.069041, l2_loss:0.163802, accuracy:0.976652\n",
      "test, loss:0.310661, accuracy:0.910400\n",
      "epoch 65\n"
     ]
    },
    {
     "name": "stderr",
     "output_type": "stream",
     "text": [
      "100%|██████████| 351/351 [00:05<00:00, 69.50it/s]\n",
      "100%|██████████| 25/25 [00:00<00:00, 189.71it/s]\n"
     ]
    },
    {
     "name": "stdout",
     "output_type": "stream",
     "text": [
      "ce_loss:0.069398, l2_loss:0.163699, accuracy:0.976206\n",
      "test, loss:0.306961, accuracy:0.912600\n",
      "epoch 66\n"
     ]
    },
    {
     "name": "stderr",
     "output_type": "stream",
     "text": [
      "100%|██████████| 351/351 [00:05<00:00, 70.00it/s]\n",
      "100%|██████████| 25/25 [00:00<00:00, 194.47it/s]\n"
     ]
    },
    {
     "name": "stdout",
     "output_type": "stream",
     "text": [
      "ce_loss:0.068993, l2_loss:0.163596, accuracy:0.977097\n",
      "test, loss:0.304895, accuracy:0.913400\n",
      "epoch 67\n"
     ]
    },
    {
     "name": "stderr",
     "output_type": "stream",
     "text": [
      "100%|██████████| 351/351 [00:05<00:00, 69.70it/s]\n",
      "100%|██████████| 25/25 [00:00<00:00, 202.59it/s]\n"
     ]
    },
    {
     "name": "stdout",
     "output_type": "stream",
     "text": [
      "ce_loss:0.068316, l2_loss:0.163493, accuracy:0.977720\n",
      "test, loss:0.307730, accuracy:0.913800\n",
      "epoch 68\n"
     ]
    },
    {
     "name": "stderr",
     "output_type": "stream",
     "text": [
      "100%|██████████| 351/351 [00:05<00:00, 69.23it/s]\n",
      "100%|██████████| 25/25 [00:00<00:00, 197.74it/s]\n"
     ]
    },
    {
     "name": "stdout",
     "output_type": "stream",
     "text": [
      "ce_loss:0.067625, l2_loss:0.163390, accuracy:0.978788\n",
      "test, loss:0.305997, accuracy:0.913800\n",
      "epoch 69\n"
     ]
    },
    {
     "name": "stderr",
     "output_type": "stream",
     "text": [
      "100%|██████████| 351/351 [00:05<00:00, 69.27it/s]\n",
      "100%|██████████| 25/25 [00:00<00:00, 195.81it/s]\n"
     ]
    },
    {
     "name": "stdout",
     "output_type": "stream",
     "text": [
      "ce_loss:0.068848, l2_loss:0.163287, accuracy:0.977520\n",
      "test, loss:0.309789, accuracy:0.912400\n",
      "epoch 70\n"
     ]
    },
    {
     "name": "stderr",
     "output_type": "stream",
     "text": [
      "100%|██████████| 351/351 [00:05<00:00, 69.78it/s]\n",
      "100%|██████████| 25/25 [00:00<00:00, 194.61it/s]\n"
     ]
    },
    {
     "name": "stdout",
     "output_type": "stream",
     "text": [
      "ce_loss:0.068351, l2_loss:0.163183, accuracy:0.977386\n",
      "test, loss:0.308853, accuracy:0.912200\n",
      "epoch 71\n"
     ]
    },
    {
     "name": "stderr",
     "output_type": "stream",
     "text": [
      "100%|██████████| 351/351 [00:05<00:00, 69.50it/s]\n",
      "100%|██████████| 25/25 [00:00<00:00, 202.79it/s]\n"
     ]
    },
    {
     "name": "stdout",
     "output_type": "stream",
     "text": [
      "ce_loss:0.068012, l2_loss:0.163080, accuracy:0.977052\n",
      "test, loss:0.309835, accuracy:0.913200\n",
      "epoch 72\n"
     ]
    },
    {
     "name": "stderr",
     "output_type": "stream",
     "text": [
      "100%|██████████| 351/351 [00:05<00:00, 59.89it/s]\n",
      "100%|██████████| 25/25 [00:00<00:00, 198.10it/s]\n"
     ]
    },
    {
     "name": "stdout",
     "output_type": "stream",
     "text": [
      "ce_loss:0.065022, l2_loss:0.162978, accuracy:0.978877\n",
      "test, loss:0.309272, accuracy:0.913400\n",
      "epoch 73\n"
     ]
    },
    {
     "name": "stderr",
     "output_type": "stream",
     "text": [
      "100%|██████████| 351/351 [00:05<00:00, 69.73it/s]\n",
      "100%|██████████| 25/25 [00:00<00:00, 186.11it/s]\n"
     ]
    },
    {
     "name": "stdout",
     "output_type": "stream",
     "text": [
      "ce_loss:0.067729, l2_loss:0.162875, accuracy:0.977008\n",
      "test, loss:0.309706, accuracy:0.914600\n",
      "epoch 74\n"
     ]
    },
    {
     "name": "stderr",
     "output_type": "stream",
     "text": [
      "100%|██████████| 351/351 [00:05<00:00, 69.68it/s]\n",
      "100%|██████████| 25/25 [00:00<00:00, 195.74it/s]\n"
     ]
    },
    {
     "name": "stdout",
     "output_type": "stream",
     "text": [
      "ce_loss:0.065549, l2_loss:0.162772, accuracy:0.978677\n",
      "test, loss:0.310504, accuracy:0.911800\n",
      "epoch 75\n"
     ]
    },
    {
     "name": "stderr",
     "output_type": "stream",
     "text": [
      "100%|██████████| 351/351 [00:05<00:00, 69.24it/s]\n",
      "100%|██████████| 25/25 [00:00<00:00, 200.36it/s]\n"
     ]
    },
    {
     "name": "stdout",
     "output_type": "stream",
     "text": [
      "ce_loss:0.065261, l2_loss:0.162670, accuracy:0.979211\n",
      "test, loss:0.309514, accuracy:0.913000\n",
      "epoch 76\n"
     ]
    },
    {
     "name": "stderr",
     "output_type": "stream",
     "text": [
      "100%|██████████| 351/351 [00:05<00:00, 69.68it/s]\n",
      "100%|██████████| 25/25 [00:00<00:00, 190.33it/s]\n"
     ]
    },
    {
     "name": "stdout",
     "output_type": "stream",
     "text": [
      "ce_loss:0.067500, l2_loss:0.162567, accuracy:0.977586\n",
      "test, loss:0.310664, accuracy:0.911400\n",
      "epoch 77\n"
     ]
    },
    {
     "name": "stderr",
     "output_type": "stream",
     "text": [
      "100%|██████████| 351/351 [00:05<00:00, 69.44it/s]\n",
      "100%|██████████| 25/25 [00:00<00:00, 200.99it/s]\n"
     ]
    },
    {
     "name": "stdout",
     "output_type": "stream",
     "text": [
      "ce_loss:0.065630, l2_loss:0.162464, accuracy:0.977831\n",
      "test, loss:0.308464, accuracy:0.913400\n",
      "epoch 78\n"
     ]
    },
    {
     "name": "stderr",
     "output_type": "stream",
     "text": [
      "100%|██████████| 351/351 [00:05<00:00, 69.65it/s]\n",
      "100%|██████████| 25/25 [00:00<00:00, 193.66it/s]\n"
     ]
    },
    {
     "name": "stdout",
     "output_type": "stream",
     "text": [
      "ce_loss:0.065058, l2_loss:0.162361, accuracy:0.978321\n",
      "test, loss:0.311839, accuracy:0.911400\n",
      "epoch 79\n"
     ]
    },
    {
     "name": "stderr",
     "output_type": "stream",
     "text": [
      "100%|██████████| 351/351 [00:05<00:00, 69.45it/s]\n",
      "100%|██████████| 25/25 [00:00<00:00, 195.26it/s]\n"
     ]
    },
    {
     "name": "stdout",
     "output_type": "stream",
     "text": [
      "ce_loss:0.064245, l2_loss:0.162259, accuracy:0.979055\n",
      "test, loss:0.313279, accuracy:0.911000\n",
      "epoch 80\n"
     ]
    },
    {
     "name": "stderr",
     "output_type": "stream",
     "text": [
      "100%|██████████| 351/351 [00:05<00:00, 69.68it/s]\n",
      "100%|██████████| 25/25 [00:00<00:00, 198.24it/s]\n"
     ]
    },
    {
     "name": "stdout",
     "output_type": "stream",
     "text": [
      "ce_loss:0.063726, l2_loss:0.162156, accuracy:0.978432\n",
      "test, loss:0.312217, accuracy:0.910400\n",
      "epoch 81\n"
     ]
    },
    {
     "name": "stderr",
     "output_type": "stream",
     "text": [
      "100%|██████████| 351/351 [00:05<00:00, 69.03it/s]\n",
      "100%|██████████| 25/25 [00:00<00:00, 196.52it/s]\n"
     ]
    },
    {
     "name": "stdout",
     "output_type": "stream",
     "text": [
      "ce_loss:0.064742, l2_loss:0.162054, accuracy:0.978788\n",
      "test, loss:0.311828, accuracy:0.913000\n",
      "epoch 82\n"
     ]
    },
    {
     "name": "stderr",
     "output_type": "stream",
     "text": [
      "100%|██████████| 351/351 [00:05<00:00, 69.05it/s]\n",
      "100%|██████████| 25/25 [00:00<00:00, 196.25it/s]\n"
     ]
    },
    {
     "name": "stdout",
     "output_type": "stream",
     "text": [
      "ce_loss:0.063101, l2_loss:0.161951, accuracy:0.979211\n",
      "test, loss:0.315037, accuracy:0.912400\n",
      "epoch 83\n"
     ]
    },
    {
     "name": "stderr",
     "output_type": "stream",
     "text": [
      "100%|██████████| 351/351 [00:05<00:00, 69.68it/s]\n",
      "100%|██████████| 25/25 [00:00<00:00, 194.83it/s]\n"
     ]
    },
    {
     "name": "stdout",
     "output_type": "stream",
     "text": [
      "ce_loss:0.063651, l2_loss:0.161849, accuracy:0.978521\n",
      "test, loss:0.312577, accuracy:0.912000\n",
      "epoch 84\n"
     ]
    },
    {
     "name": "stderr",
     "output_type": "stream",
     "text": [
      "100%|██████████| 351/351 [00:05<00:00, 69.29it/s]\n",
      "100%|██████████| 25/25 [00:00<00:00, 200.31it/s]\n"
     ]
    },
    {
     "name": "stdout",
     "output_type": "stream",
     "text": [
      "ce_loss:0.064188, l2_loss:0.161746, accuracy:0.978365\n",
      "test, loss:0.313739, accuracy:0.913000\n",
      "epoch 85\n"
     ]
    },
    {
     "name": "stderr",
     "output_type": "stream",
     "text": [
      "100%|██████████| 351/351 [00:05<00:00, 69.11it/s]\n",
      "100%|██████████| 25/25 [00:00<00:00, 201.95it/s]\n"
     ]
    },
    {
     "name": "stdout",
     "output_type": "stream",
     "text": [
      "ce_loss:0.062523, l2_loss:0.161644, accuracy:0.979256\n",
      "test, loss:0.315227, accuracy:0.912000\n",
      "epoch 86\n"
     ]
    },
    {
     "name": "stderr",
     "output_type": "stream",
     "text": [
      "100%|██████████| 351/351 [00:05<00:00, 69.29it/s]\n",
      "100%|██████████| 25/25 [00:00<00:00, 189.56it/s]\n"
     ]
    },
    {
     "name": "stdout",
     "output_type": "stream",
     "text": [
      "ce_loss:0.060538, l2_loss:0.161542, accuracy:0.980369\n",
      "test, loss:0.313087, accuracy:0.913000\n",
      "epoch 87\n"
     ]
    },
    {
     "name": "stderr",
     "output_type": "stream",
     "text": [
      "100%|██████████| 351/351 [00:05<00:00, 69.12it/s]\n",
      "100%|██████████| 25/25 [00:00<00:00, 200.49it/s]\n"
     ]
    },
    {
     "name": "stdout",
     "output_type": "stream",
     "text": [
      "ce_loss:0.062838, l2_loss:0.161440, accuracy:0.979011\n",
      "test, loss:0.312987, accuracy:0.912000\n",
      "epoch 88\n"
     ]
    },
    {
     "name": "stderr",
     "output_type": "stream",
     "text": [
      "100%|██████████| 351/351 [00:05<00:00, 68.87it/s]\n",
      "100%|██████████| 25/25 [00:00<00:00, 179.35it/s]\n"
     ]
    },
    {
     "name": "stdout",
     "output_type": "stream",
     "text": [
      "ce_loss:0.062037, l2_loss:0.161338, accuracy:0.979812\n",
      "test, loss:0.316312, accuracy:0.912600\n",
      "epoch 89\n"
     ]
    },
    {
     "name": "stderr",
     "output_type": "stream",
     "text": [
      "100%|██████████| 351/351 [00:05<00:00, 68.93it/s]\n",
      "100%|██████████| 25/25 [00:00<00:00, 198.27it/s]"
     ]
    },
    {
     "name": "stdout",
     "output_type": "stream",
     "text": [
      "ce_loss:0.063383, l2_loss:0.161235, accuracy:0.978677\n",
      "test, loss:0.314364, accuracy:0.912400\n"
     ]
    },
    {
     "name": "stderr",
     "output_type": "stream",
     "text": [
      "\n"
     ]
    }
   ],
   "source": [
    "# train\n",
    "learning_rate_schedules = tf.optimizers.schedules.PiecewiseConstantDecay(boundaries, learning_rate)\n",
    "optimizer = tf.optimizers.SGD(learning_rate=learning_rate_schedules, momentum=0.9, nesterov=True)\n",
    "#     optimizer = tf.optimizers.Adam(learning_rate=learning_rate_schedules)\n",
    "\n",
    "for epoch in range(epoch_num):\n",
    "    print('epoch %d' % epoch)\n",
    "    train(model, optimizer, x_train, y_train)\n",
    "    test(model, x_val, y_val)"
   ]
  },
  {
   "cell_type": "code",
   "execution_count": 5,
   "id": "alike-ceramic",
   "metadata": {},
   "outputs": [
    {
     "name": "stderr",
     "output_type": "stream",
     "text": [
      "100%|██████████| 25/25 [00:00<00:00, 173.45it/s]"
     ]
    },
    {
     "name": "stdout",
     "output_type": "stream",
     "text": [
      "test, loss:0.345812, accuracy:0.910400\n"
     ]
    },
    {
     "name": "stderr",
     "output_type": "stream",
     "text": [
      "\n"
     ]
    }
   ],
   "source": [
    "# test\n",
    "test_batch_size = 200\n",
    "test_num = 10000\n",
    "test_iterations = int(test_num / test_batch_size)\n",
    "test(model, test_images, test_labels)"
   ]
  },
  {
   "cell_type": "code",
   "execution_count": null,
   "id": "sized-clark",
   "metadata": {},
   "outputs": [],
   "source": []
  }
 ],
 "metadata": {
  "kernelspec": {
   "display_name": "Python 3",
   "language": "python",
   "name": "python3"
  },
  "language_info": {
   "codemirror_mode": {
    "name": "ipython",
    "version": 3
   },
   "file_extension": ".py",
   "mimetype": "text/x-python",
   "name": "python",
   "nbconvert_exporter": "python",
   "pygments_lexer": "ipython3",
   "version": "3.6.8"
  }
 },
 "nbformat": 4,
 "nbformat_minor": 5
}
