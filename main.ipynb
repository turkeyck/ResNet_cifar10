{
 "cells": [
  {
   "cell_type": "code",
   "execution_count": 1,
   "id": "stable-advance",
   "metadata": {
    "tags": []
   },
   "outputs": [],
   "source": [
    "import tensorflow as tf\n",
    "import numpy as np\n",
    "import matplotlib.pyplot as plt\n",
    "from tensorflow.keras.layers import Input\n",
    "from sklearn.model_selection import train_test_split\n",
    "from data_aug import color_normalize\n",
    "from my_models import ResNet\n",
    "from train import train, test"
   ]
  },
  {
   "cell_type": "code",
   "execution_count": 2,
   "id": "homeless-voltage",
   "metadata": {
    "tags": []
   },
   "outputs": [
    {
     "name": "stdout",
     "output_type": "stream",
     "text": [
      "x_train.shape= (45000, 32, 32, 3)\n",
      "x_val.shape= (5000, 32, 32, 3)\n",
      "y_train.shape= (45000, 10)\n",
      "y_val.shape= (5000, 10)\n",
      "test_images.shape= (10000, 32, 32, 3)\n",
      "test_labels.shape= (10000, 10)\n",
      "Model: \"model\"\n",
      "__________________________________________________________________________________________________\n",
      "Layer (type)                    Output Shape         Param #     Connected to                     \n",
      "==================================================================================================\n",
      "input_1 (InputLayer)            [(None, 32, 32, 3)]  0                                            \n",
      "__________________________________________________________________________________________________\n",
      "conv2d (Conv2D)                 (None, 32, 32, 16)   448         input_1[0][0]                    \n",
      "__________________________________________________________________________________________________\n",
      "batch_normalization (BatchNorma (None, 32, 32, 16)   64          conv2d[0][0]                     \n",
      "__________________________________________________________________________________________________\n",
      "activation (Activation)         (None, 32, 32, 16)   0           batch_normalization[0][0]        \n",
      "__________________________________________________________________________________________________\n",
      "conv2d_1 (Conv2D)               (None, 32, 32, 16)   2320        activation[0][0]                 \n",
      "__________________________________________________________________________________________________\n",
      "batch_normalization_1 (BatchNor (None, 32, 32, 16)   64          conv2d_1[0][0]                   \n",
      "__________________________________________________________________________________________________\n",
      "activation_1 (Activation)       (None, 32, 32, 16)   0           batch_normalization_1[0][0]      \n",
      "__________________________________________________________________________________________________\n",
      "conv2d_2 (Conv2D)               (None, 32, 32, 16)   2320        activation_1[0][0]               \n",
      "__________________________________________________________________________________________________\n",
      "add (Add)                       (None, 32, 32, 16)   0           conv2d_2[0][0]                   \n",
      "                                                                 conv2d[0][0]                     \n",
      "__________________________________________________________________________________________________\n",
      "batch_normalization_2 (BatchNor (None, 32, 32, 16)   64          add[0][0]                        \n",
      "__________________________________________________________________________________________________\n",
      "activation_2 (Activation)       (None, 32, 32, 16)   0           batch_normalization_2[0][0]      \n",
      "__________________________________________________________________________________________________\n",
      "conv2d_3 (Conv2D)               (None, 32, 32, 16)   2320        activation_2[0][0]               \n",
      "__________________________________________________________________________________________________\n",
      "batch_normalization_3 (BatchNor (None, 32, 32, 16)   64          conv2d_3[0][0]                   \n",
      "__________________________________________________________________________________________________\n",
      "activation_3 (Activation)       (None, 32, 32, 16)   0           batch_normalization_3[0][0]      \n",
      "__________________________________________________________________________________________________\n",
      "conv2d_4 (Conv2D)               (None, 32, 32, 16)   2320        activation_3[0][0]               \n",
      "__________________________________________________________________________________________________\n",
      "add_1 (Add)                     (None, 32, 32, 16)   0           conv2d_4[0][0]                   \n",
      "                                                                 add[0][0]                        \n",
      "__________________________________________________________________________________________________\n",
      "batch_normalization_4 (BatchNor (None, 32, 32, 16)   64          add_1[0][0]                      \n",
      "__________________________________________________________________________________________________\n",
      "activation_4 (Activation)       (None, 32, 32, 16)   0           batch_normalization_4[0][0]      \n",
      "__________________________________________________________________________________________________\n",
      "conv2d_5 (Conv2D)               (None, 32, 32, 16)   2320        activation_4[0][0]               \n",
      "__________________________________________________________________________________________________\n",
      "batch_normalization_5 (BatchNor (None, 32, 32, 16)   64          conv2d_5[0][0]                   \n",
      "__________________________________________________________________________________________________\n",
      "activation_5 (Activation)       (None, 32, 32, 16)   0           batch_normalization_5[0][0]      \n",
      "__________________________________________________________________________________________________\n",
      "conv2d_6 (Conv2D)               (None, 32, 32, 16)   2320        activation_5[0][0]               \n",
      "__________________________________________________________________________________________________\n",
      "add_2 (Add)                     (None, 32, 32, 16)   0           conv2d_6[0][0]                   \n",
      "                                                                 add_1[0][0]                      \n",
      "__________________________________________________________________________________________________\n",
      "batch_normalization_6 (BatchNor (None, 32, 32, 16)   64          add_2[0][0]                      \n",
      "__________________________________________________________________________________________________\n",
      "activation_6 (Activation)       (None, 32, 32, 16)   0           batch_normalization_6[0][0]      \n",
      "__________________________________________________________________________________________________\n",
      "conv2d_8 (Conv2D)               (None, 16, 16, 32)   4640        activation_6[0][0]               \n",
      "__________________________________________________________________________________________________\n",
      "batch_normalization_7 (BatchNor (None, 16, 16, 32)   128         conv2d_8[0][0]                   \n",
      "__________________________________________________________________________________________________\n",
      "activation_7 (Activation)       (None, 16, 16, 32)   0           batch_normalization_7[0][0]      \n",
      "__________________________________________________________________________________________________\n",
      "conv2d_9 (Conv2D)               (None, 16, 16, 32)   9248        activation_7[0][0]               \n",
      "__________________________________________________________________________________________________\n",
      "conv2d_7 (Conv2D)               (None, 16, 16, 32)   544         activation_6[0][0]               \n",
      "__________________________________________________________________________________________________\n",
      "add_3 (Add)                     (None, 16, 16, 32)   0           conv2d_9[0][0]                   \n",
      "                                                                 conv2d_7[0][0]                   \n",
      "__________________________________________________________________________________________________\n",
      "batch_normalization_8 (BatchNor (None, 16, 16, 32)   128         add_3[0][0]                      \n",
      "__________________________________________________________________________________________________\n",
      "activation_8 (Activation)       (None, 16, 16, 32)   0           batch_normalization_8[0][0]      \n",
      "__________________________________________________________________________________________________\n",
      "conv2d_10 (Conv2D)              (None, 16, 16, 32)   9248        activation_8[0][0]               \n",
      "__________________________________________________________________________________________________\n",
      "batch_normalization_9 (BatchNor (None, 16, 16, 32)   128         conv2d_10[0][0]                  \n",
      "__________________________________________________________________________________________________\n",
      "activation_9 (Activation)       (None, 16, 16, 32)   0           batch_normalization_9[0][0]      \n",
      "__________________________________________________________________________________________________\n",
      "conv2d_11 (Conv2D)              (None, 16, 16, 32)   9248        activation_9[0][0]               \n",
      "__________________________________________________________________________________________________\n",
      "add_4 (Add)                     (None, 16, 16, 32)   0           conv2d_11[0][0]                  \n",
      "                                                                 add_3[0][0]                      \n",
      "__________________________________________________________________________________________________\n",
      "batch_normalization_10 (BatchNo (None, 16, 16, 32)   128         add_4[0][0]                      \n",
      "__________________________________________________________________________________________________\n",
      "activation_10 (Activation)      (None, 16, 16, 32)   0           batch_normalization_10[0][0]     \n",
      "__________________________________________________________________________________________________\n",
      "conv2d_12 (Conv2D)              (None, 16, 16, 32)   9248        activation_10[0][0]              \n",
      "__________________________________________________________________________________________________\n",
      "batch_normalization_11 (BatchNo (None, 16, 16, 32)   128         conv2d_12[0][0]                  \n",
      "__________________________________________________________________________________________________\n",
      "activation_11 (Activation)      (None, 16, 16, 32)   0           batch_normalization_11[0][0]     \n",
      "__________________________________________________________________________________________________\n",
      "conv2d_13 (Conv2D)              (None, 16, 16, 32)   9248        activation_11[0][0]              \n",
      "__________________________________________________________________________________________________\n",
      "add_5 (Add)                     (None, 16, 16, 32)   0           conv2d_13[0][0]                  \n",
      "                                                                 add_4[0][0]                      \n",
      "__________________________________________________________________________________________________\n",
      "batch_normalization_12 (BatchNo (None, 16, 16, 32)   128         add_5[0][0]                      \n",
      "__________________________________________________________________________________________________\n",
      "activation_12 (Activation)      (None, 16, 16, 32)   0           batch_normalization_12[0][0]     \n",
      "__________________________________________________________________________________________________\n",
      "conv2d_15 (Conv2D)              (None, 8, 8, 64)     18496       activation_12[0][0]              \n",
      "__________________________________________________________________________________________________\n",
      "batch_normalization_13 (BatchNo (None, 8, 8, 64)     256         conv2d_15[0][0]                  \n",
      "__________________________________________________________________________________________________\n",
      "activation_13 (Activation)      (None, 8, 8, 64)     0           batch_normalization_13[0][0]     \n",
      "__________________________________________________________________________________________________\n",
      "conv2d_16 (Conv2D)              (None, 8, 8, 64)     36928       activation_13[0][0]              \n",
      "__________________________________________________________________________________________________\n",
      "conv2d_14 (Conv2D)              (None, 8, 8, 64)     2112        activation_12[0][0]              \n",
      "__________________________________________________________________________________________________\n",
      "add_6 (Add)                     (None, 8, 8, 64)     0           conv2d_16[0][0]                  \n",
      "                                                                 conv2d_14[0][0]                  \n",
      "__________________________________________________________________________________________________\n",
      "batch_normalization_14 (BatchNo (None, 8, 8, 64)     256         add_6[0][0]                      \n",
      "__________________________________________________________________________________________________\n",
      "activation_14 (Activation)      (None, 8, 8, 64)     0           batch_normalization_14[0][0]     \n",
      "__________________________________________________________________________________________________\n",
      "conv2d_17 (Conv2D)              (None, 8, 8, 64)     36928       activation_14[0][0]              \n",
      "__________________________________________________________________________________________________\n",
      "batch_normalization_15 (BatchNo (None, 8, 8, 64)     256         conv2d_17[0][0]                  \n",
      "__________________________________________________________________________________________________\n",
      "activation_15 (Activation)      (None, 8, 8, 64)     0           batch_normalization_15[0][0]     \n",
      "__________________________________________________________________________________________________\n",
      "conv2d_18 (Conv2D)              (None, 8, 8, 64)     36928       activation_15[0][0]              \n",
      "__________________________________________________________________________________________________\n",
      "add_7 (Add)                     (None, 8, 8, 64)     0           conv2d_18[0][0]                  \n",
      "                                                                 add_6[0][0]                      \n",
      "__________________________________________________________________________________________________\n",
      "batch_normalization_16 (BatchNo (None, 8, 8, 64)     256         add_7[0][0]                      \n",
      "__________________________________________________________________________________________________\n",
      "activation_16 (Activation)      (None, 8, 8, 64)     0           batch_normalization_16[0][0]     \n",
      "__________________________________________________________________________________________________\n",
      "conv2d_19 (Conv2D)              (None, 8, 8, 64)     36928       activation_16[0][0]              \n",
      "__________________________________________________________________________________________________\n",
      "batch_normalization_17 (BatchNo (None, 8, 8, 64)     256         conv2d_19[0][0]                  \n",
      "__________________________________________________________________________________________________\n",
      "activation_17 (Activation)      (None, 8, 8, 64)     0           batch_normalization_17[0][0]     \n",
      "__________________________________________________________________________________________________\n",
      "conv2d_20 (Conv2D)              (None, 8, 8, 64)     36928       activation_17[0][0]              \n",
      "__________________________________________________________________________________________________\n",
      "add_8 (Add)                     (None, 8, 8, 64)     0           conv2d_20[0][0]                  \n",
      "                                                                 add_7[0][0]                      \n",
      "__________________________________________________________________________________________________\n",
      "batch_normalization_18 (BatchNo (None, 8, 8, 64)     256         add_8[0][0]                      \n",
      "__________________________________________________________________________________________________\n",
      "activation_18 (Activation)      (None, 8, 8, 64)     0           batch_normalization_18[0][0]     \n",
      "__________________________________________________________________________________________________\n",
      "average_pooling2d (AveragePooli (None, 1, 1, 64)     0           activation_18[0][0]              \n",
      "__________________________________________________________________________________________________\n",
      "flatten (Flatten)               (None, 64)           0           average_pooling2d[0][0]          \n",
      "__________________________________________________________________________________________________\n",
      "dense (Dense)                   (None, 10)           650         flatten[0][0]                    \n",
      "==================================================================================================\n",
      "Total params: 274,442\n",
      "Trainable params: 273,066\n",
      "Non-trainable params: 1,376\n",
      "__________________________________________________________________________________________________\n"
     ]
    }
   ],
   "source": [
    "# gpu config\n",
    "# physical_devices = tf.config.experimental.list_physical_devices('GPU')\n",
    "# tf.config.experimental.set_memory_growth(device=physical_devices[0], enable=True)\n",
    "if __name__ == '__main__':\n",
    "    batch_size = 128\n",
    "    train_num = 45000\n",
    "    iterations_per_epoch = int(train_num / batch_size)\n",
    "    boundaries = [30 * iterations_per_epoch, 50 * iterations_per_epoch]\n",
    "    epoch_num = 60\n",
    "    learning_rate = [0.1, 0.01, 0.001]\n",
    "    stack_n = 3  # layers = stack_n * 6 + 2\n",
    "\n",
    "    # load data\n",
    "    (train_images, train_labels), (test_images, test_labels) = tf.keras.datasets.cifar10.load_data()\n",
    "    train_labels = tf.keras.utils.to_categorical(train_labels, 10)\n",
    "    test_labels = tf.keras.utils.to_categorical(test_labels, 10)\n",
    "\n",
    "    train_images = np.array(train_images, dtype=np.float32)\n",
    "    test_images = np.array(test_images, dtype=np.float32)\n",
    "    train_images, test_images = color_normalize(train_images, test_images)\n",
    "    x_train, x_val, y_train, y_val = train_test_split(train_images, train_labels, test_size = 0.1)\n",
    "    print(\"x_train.shape=\", x_train.shape)\n",
    "    print(\"x_val.shape=\", x_val.shape)\n",
    "    print(\"y_train.shape=\", y_train.shape)\n",
    "    print(\"y_val.shape=\", y_val.shape)\n",
    "    print(\"test_images.shape=\", test_images.shape)\n",
    "    print(\"test_labels.shape=\", test_labels.shape)\n",
    "    # get model\n",
    "    img_input = Input(shape=(32, 32, 3))\n",
    "    output = ResNet(inputs = img_input, stack_n = stack_n)\n",
    "    model = tf.keras.Model(img_input, output)\n",
    "\n",
    "#     # show\n",
    "    model.summary()\n",
    "\n",
    "    "
   ]
  },
  {
   "cell_type": "code",
   "execution_count": 3,
   "id": "cosmetic-passion",
   "metadata": {
    "tags": []
   },
   "outputs": [
    {
     "name": "stdout",
     "output_type": "stream",
     "text": [
      "epoch 0\n"
     ]
    },
    {
     "name": "stderr",
     "output_type": "stream",
     "text": [
      "100%|██████████| 351/351 [00:10<00:00, 33.97it/s]\n",
      "  0%|          | 0/25 [00:00<?, ?it/s]"
     ]
    },
    {
     "name": "stdout",
     "output_type": "stream",
     "text": [
      "ce_loss:1.418780, l2_loss:0.050012, accuracy:0.479745\n"
     ]
    },
    {
     "name": "stderr",
     "output_type": "stream",
     "text": [
      "100%|██████████| 25/25 [00:00<00:00, 53.10it/s]\n"
     ]
    },
    {
     "name": "stdout",
     "output_type": "stream",
     "text": [
      "test, loss:1.750100, accuracy:0.466400\n",
      "epoch 1\n"
     ]
    },
    {
     "name": "stderr",
     "output_type": "stream",
     "text": [
      "100%|██████████| 351/351 [00:05<00:00, 66.01it/s]\n",
      "100%|██████████| 25/25 [00:00<00:00, 187.78it/s]\n"
     ]
    },
    {
     "name": "stdout",
     "output_type": "stream",
     "text": [
      "ce_loss:0.947088, l2_loss:0.063408, accuracy:0.667490\n",
      "test, loss:0.921460, accuracy:0.679000\n",
      "epoch 2\n"
     ]
    },
    {
     "name": "stderr",
     "output_type": "stream",
     "text": [
      "100%|██████████| 351/351 [00:05<00:00, 66.03it/s]\n",
      "100%|██████████| 25/25 [00:00<00:00, 187.62it/s]\n"
     ]
    },
    {
     "name": "stdout",
     "output_type": "stream",
     "text": [
      "ce_loss:0.771547, l2_loss:0.075816, accuracy:0.731504\n",
      "test, loss:0.800336, accuracy:0.727000\n",
      "epoch 3\n"
     ]
    },
    {
     "name": "stderr",
     "output_type": "stream",
     "text": [
      "100%|██████████| 351/351 [00:05<00:00, 66.24it/s]\n",
      "100%|██████████| 25/25 [00:00<00:00, 186.83it/s]\n"
     ]
    },
    {
     "name": "stdout",
     "output_type": "stream",
     "text": [
      "ce_loss:0.669416, l2_loss:0.087434, accuracy:0.767139\n",
      "test, loss:0.699513, accuracy:0.762400\n",
      "epoch 4\n"
     ]
    },
    {
     "name": "stderr",
     "output_type": "stream",
     "text": [
      "100%|██████████| 351/351 [00:05<00:00, 66.51it/s]\n",
      "100%|██████████| 25/25 [00:00<00:00, 189.04it/s]\n"
     ]
    },
    {
     "name": "stdout",
     "output_type": "stream",
     "text": [
      "ce_loss:0.604764, l2_loss:0.098286, accuracy:0.790643\n",
      "test, loss:0.807087, accuracy:0.731400\n",
      "epoch 5\n"
     ]
    },
    {
     "name": "stderr",
     "output_type": "stream",
     "text": [
      "100%|██████████| 351/351 [00:05<00:00, 65.66it/s]\n",
      "100%|██████████| 25/25 [00:00<00:00, 179.27it/s]\n"
     ]
    },
    {
     "name": "stdout",
     "output_type": "stream",
     "text": [
      "ce_loss:0.556912, l2_loss:0.108718, accuracy:0.806557\n",
      "test, loss:0.597708, accuracy:0.801600\n",
      "epoch 6\n"
     ]
    },
    {
     "name": "stderr",
     "output_type": "stream",
     "text": [
      "100%|██████████| 351/351 [00:05<00:00, 64.93it/s]\n",
      "100%|██████████| 25/25 [00:00<00:00, 191.93it/s]\n"
     ]
    },
    {
     "name": "stdout",
     "output_type": "stream",
     "text": [
      "ce_loss:0.516607, l2_loss:0.118947, accuracy:0.819556\n",
      "test, loss:0.740786, accuracy:0.761400\n",
      "epoch 7\n"
     ]
    },
    {
     "name": "stderr",
     "output_type": "stream",
     "text": [
      "100%|██████████| 351/351 [00:05<00:00, 64.44it/s]\n",
      "100%|██████████| 25/25 [00:00<00:00, 187.27it/s]\n"
     ]
    },
    {
     "name": "stdout",
     "output_type": "stream",
     "text": [
      "ce_loss:0.482579, l2_loss:0.128900, accuracy:0.832710\n",
      "test, loss:0.585864, accuracy:0.797600\n",
      "epoch 8\n"
     ]
    },
    {
     "name": "stderr",
     "output_type": "stream",
     "text": [
      "100%|██████████| 351/351 [00:05<00:00, 66.84it/s]\n",
      "100%|██████████| 25/25 [00:00<00:00, 174.15it/s]\n"
     ]
    },
    {
     "name": "stdout",
     "output_type": "stream",
     "text": [
      "ce_loss:0.458726, l2_loss:0.138711, accuracy:0.841146\n",
      "test, loss:0.532796, accuracy:0.819800\n",
      "epoch 9\n"
     ]
    },
    {
     "name": "stderr",
     "output_type": "stream",
     "text": [
      "100%|██████████| 351/351 [00:05<00:00, 67.37it/s]\n",
      "100%|██████████| 25/25 [00:00<00:00, 187.61it/s]\n"
     ]
    },
    {
     "name": "stdout",
     "output_type": "stream",
     "text": [
      "ce_loss:0.437859, l2_loss:0.148234, accuracy:0.846844\n",
      "test, loss:0.577516, accuracy:0.807400\n",
      "epoch 10\n"
     ]
    },
    {
     "name": "stderr",
     "output_type": "stream",
     "text": [
      "100%|██████████| 351/351 [00:05<00:00, 67.37it/s]\n",
      "100%|██████████| 25/25 [00:00<00:00, 200.49it/s]\n"
     ]
    },
    {
     "name": "stdout",
     "output_type": "stream",
     "text": [
      "ce_loss:0.418996, l2_loss:0.157570, accuracy:0.854857\n",
      "test, loss:0.530577, accuracy:0.824600\n",
      "epoch 11\n"
     ]
    },
    {
     "name": "stderr",
     "output_type": "stream",
     "text": [
      "100%|██████████| 351/351 [00:05<00:00, 66.87it/s]\n",
      "100%|██████████| 25/25 [00:00<00:00, 196.06it/s]\n"
     ]
    },
    {
     "name": "stdout",
     "output_type": "stream",
     "text": [
      "ce_loss:0.400986, l2_loss:0.166781, accuracy:0.861111\n",
      "test, loss:0.503195, accuracy:0.825200\n",
      "epoch 12\n"
     ]
    },
    {
     "name": "stderr",
     "output_type": "stream",
     "text": [
      "100%|██████████| 351/351 [00:05<00:00, 67.85it/s]\n",
      "100%|██████████| 25/25 [00:00<00:00, 202.17it/s]\n"
     ]
    },
    {
     "name": "stdout",
     "output_type": "stream",
     "text": [
      "ce_loss:0.380850, l2_loss:0.175757, accuracy:0.867143\n",
      "test, loss:0.465594, accuracy:0.843400\n",
      "epoch 13\n"
     ]
    },
    {
     "name": "stderr",
     "output_type": "stream",
     "text": [
      "100%|██████████| 351/351 [00:05<00:00, 67.56it/s]\n",
      "100%|██████████| 25/25 [00:00<00:00, 204.50it/s]\n"
     ]
    },
    {
     "name": "stdout",
     "output_type": "stream",
     "text": [
      "ce_loss:0.370276, l2_loss:0.184599, accuracy:0.871839\n",
      "test, loss:0.448085, accuracy:0.843200\n",
      "epoch 14\n"
     ]
    },
    {
     "name": "stderr",
     "output_type": "stream",
     "text": [
      "100%|██████████| 351/351 [00:05<00:00, 66.91it/s]\n",
      "100%|██████████| 25/25 [00:00<00:00, 201.65it/s]\n"
     ]
    },
    {
     "name": "stdout",
     "output_type": "stream",
     "text": [
      "ce_loss:0.351330, l2_loss:0.193542, accuracy:0.877738\n",
      "test, loss:0.539038, accuracy:0.828200\n",
      "epoch 15\n"
     ]
    },
    {
     "name": "stderr",
     "output_type": "stream",
     "text": [
      "100%|██████████| 351/351 [00:05<00:00, 66.61it/s]\n",
      "100%|██████████| 25/25 [00:00<00:00, 186.85it/s]\n"
     ]
    },
    {
     "name": "stdout",
     "output_type": "stream",
     "text": [
      "ce_loss:0.339793, l2_loss:0.202257, accuracy:0.882991\n",
      "test, loss:0.458201, accuracy:0.844000\n",
      "epoch 16\n"
     ]
    },
    {
     "name": "stderr",
     "output_type": "stream",
     "text": [
      "100%|██████████| 351/351 [00:05<00:00, 67.43it/s]\n",
      "100%|██████████| 25/25 [00:00<00:00, 194.64it/s]\n"
     ]
    },
    {
     "name": "stdout",
     "output_type": "stream",
     "text": [
      "ce_loss:0.329214, l2_loss:0.210967, accuracy:0.887264\n",
      "test, loss:0.414699, accuracy:0.861200\n",
      "epoch 17\n"
     ]
    },
    {
     "name": "stderr",
     "output_type": "stream",
     "text": [
      "100%|██████████| 351/351 [00:05<00:00, 68.20it/s]\n",
      "100%|██████████| 25/25 [00:00<00:00, 198.96it/s]\n"
     ]
    },
    {
     "name": "stdout",
     "output_type": "stream",
     "text": [
      "ce_loss:0.320478, l2_loss:0.219381, accuracy:0.888399\n",
      "test, loss:0.396672, accuracy:0.867200\n",
      "epoch 18\n"
     ]
    },
    {
     "name": "stderr",
     "output_type": "stream",
     "text": [
      "100%|██████████| 351/351 [00:05<00:00, 67.76it/s]\n",
      "100%|██████████| 25/25 [00:00<00:00, 186.37it/s]\n"
     ]
    },
    {
     "name": "stdout",
     "output_type": "stream",
     "text": [
      "ce_loss:0.307672, l2_loss:0.228060, accuracy:0.893674\n",
      "test, loss:0.434068, accuracy:0.854200\n",
      "epoch 19\n"
     ]
    },
    {
     "name": "stderr",
     "output_type": "stream",
     "text": [
      "100%|██████████| 351/351 [00:05<00:00, 68.36it/s]\n",
      "100%|██████████| 25/25 [00:00<00:00, 185.83it/s]\n"
     ]
    },
    {
     "name": "stdout",
     "output_type": "stream",
     "text": [
      "ce_loss:0.299903, l2_loss:0.236667, accuracy:0.895099\n",
      "test, loss:0.415141, accuracy:0.865400\n",
      "epoch 20\n"
     ]
    },
    {
     "name": "stderr",
     "output_type": "stream",
     "text": [
      "100%|██████████| 351/351 [00:05<00:00, 66.81it/s]\n",
      "100%|██████████| 25/25 [00:00<00:00, 202.96it/s]\n"
     ]
    },
    {
     "name": "stdout",
     "output_type": "stream",
     "text": [
      "ce_loss:0.290486, l2_loss:0.245099, accuracy:0.898193\n",
      "test, loss:0.414818, accuracy:0.866000\n",
      "epoch 21\n"
     ]
    },
    {
     "name": "stderr",
     "output_type": "stream",
     "text": [
      "100%|██████████| 351/351 [00:05<00:00, 67.53it/s]\n",
      "100%|██████████| 25/25 [00:00<00:00, 188.86it/s]\n"
     ]
    },
    {
     "name": "stdout",
     "output_type": "stream",
     "text": [
      "ce_loss:0.277927, l2_loss:0.253398, accuracy:0.903023\n",
      "test, loss:0.491179, accuracy:0.841800\n",
      "epoch 22\n"
     ]
    },
    {
     "name": "stderr",
     "output_type": "stream",
     "text": [
      "100%|██████████| 351/351 [00:05<00:00, 67.02it/s]\n",
      "100%|██████████| 25/25 [00:00<00:00, 195.66it/s]\n"
     ]
    },
    {
     "name": "stdout",
     "output_type": "stream",
     "text": [
      "ce_loss:0.271323, l2_loss:0.261711, accuracy:0.903134\n",
      "test, loss:0.442144, accuracy:0.852200\n",
      "epoch 23\n"
     ]
    },
    {
     "name": "stderr",
     "output_type": "stream",
     "text": [
      "100%|██████████| 351/351 [00:05<00:00, 68.57it/s]\n",
      "100%|██████████| 25/25 [00:00<00:00, 189.19it/s]\n"
     ]
    },
    {
     "name": "stdout",
     "output_type": "stream",
     "text": [
      "ce_loss:0.262752, l2_loss:0.269880, accuracy:0.907363\n",
      "test, loss:0.420418, accuracy:0.866000\n",
      "epoch 24\n"
     ]
    },
    {
     "name": "stderr",
     "output_type": "stream",
     "text": [
      "100%|██████████| 351/351 [00:05<00:00, 67.03it/s]\n",
      "100%|██████████| 25/25 [00:00<00:00, 181.00it/s]\n"
     ]
    },
    {
     "name": "stdout",
     "output_type": "stream",
     "text": [
      "ce_loss:0.258982, l2_loss:0.278219, accuracy:0.909433\n",
      "test, loss:0.450392, accuracy:0.856200\n",
      "epoch 25\n"
     ]
    },
    {
     "name": "stderr",
     "output_type": "stream",
     "text": [
      "100%|██████████| 351/351 [00:05<00:00, 68.19it/s]\n",
      "100%|██████████| 25/25 [00:00<00:00, 183.49it/s]\n"
     ]
    },
    {
     "name": "stdout",
     "output_type": "stream",
     "text": [
      "ce_loss:0.251027, l2_loss:0.286315, accuracy:0.912683\n",
      "test, loss:0.437476, accuracy:0.862000\n",
      "epoch 26\n"
     ]
    },
    {
     "name": "stderr",
     "output_type": "stream",
     "text": [
      "100%|██████████| 351/351 [00:05<00:00, 68.35it/s]\n",
      "100%|██████████| 25/25 [00:00<00:00, 198.88it/s]\n"
     ]
    },
    {
     "name": "stdout",
     "output_type": "stream",
     "text": [
      "ce_loss:0.246615, l2_loss:0.294501, accuracy:0.913395\n",
      "test, loss:0.443921, accuracy:0.857200\n",
      "epoch 27\n"
     ]
    },
    {
     "name": "stderr",
     "output_type": "stream",
     "text": [
      "100%|██████████| 351/351 [00:05<00:00, 68.95it/s]\n",
      "100%|██████████| 25/25 [00:00<00:00, 198.35it/s]\n"
     ]
    },
    {
     "name": "stdout",
     "output_type": "stream",
     "text": [
      "ce_loss:0.235835, l2_loss:0.302574, accuracy:0.916132\n",
      "test, loss:0.400237, accuracy:0.873600\n",
      "epoch 28\n"
     ]
    },
    {
     "name": "stderr",
     "output_type": "stream",
     "text": [
      "100%|██████████| 351/351 [00:05<00:00, 69.37it/s]\n",
      "100%|██████████| 25/25 [00:00<00:00, 200.04it/s]\n"
     ]
    },
    {
     "name": "stdout",
     "output_type": "stream",
     "text": [
      "ce_loss:0.238062, l2_loss:0.310639, accuracy:0.915264\n",
      "test, loss:0.401996, accuracy:0.870800\n",
      "epoch 29\n"
     ]
    },
    {
     "name": "stderr",
     "output_type": "stream",
     "text": [
      "100%|██████████| 351/351 [00:05<00:00, 67.84it/s]\n",
      "100%|██████████| 25/25 [00:00<00:00, 183.05it/s]\n"
     ]
    },
    {
     "name": "stdout",
     "output_type": "stream",
     "text": [
      "ce_loss:0.223902, l2_loss:0.318523, accuracy:0.921230\n",
      "test, loss:0.419643, accuracy:0.864400\n",
      "epoch 30\n"
     ]
    },
    {
     "name": "stderr",
     "output_type": "stream",
     "text": [
      "100%|██████████| 351/351 [00:05<00:00, 66.20it/s]\n",
      "100%|██████████| 25/25 [00:00<00:00, 190.25it/s]\n"
     ]
    },
    {
     "name": "stdout",
     "output_type": "stream",
     "text": [
      "ce_loss:0.180363, l2_loss:0.319010, accuracy:0.936476\n",
      "test, loss:0.327058, accuracy:0.895400\n",
      "epoch 31\n"
     ]
    },
    {
     "name": "stderr",
     "output_type": "stream",
     "text": [
      "100%|██████████| 351/351 [00:05<00:00, 66.39it/s]\n",
      "100%|██████████| 25/25 [00:00<00:00, 189.01it/s]\n"
     ]
    },
    {
     "name": "stdout",
     "output_type": "stream",
     "text": [
      "ce_loss:0.153055, l2_loss:0.319193, accuracy:0.947449\n",
      "test, loss:0.328144, accuracy:0.897200\n",
      "epoch 32\n"
     ]
    },
    {
     "name": "stderr",
     "output_type": "stream",
     "text": [
      "100%|██████████| 351/351 [00:05<00:00, 65.15it/s]\n",
      "100%|██████████| 25/25 [00:00<00:00, 175.35it/s]\n"
     ]
    },
    {
     "name": "stdout",
     "output_type": "stream",
     "text": [
      "ce_loss:0.146722, l2_loss:0.319358, accuracy:0.949853\n",
      "test, loss:0.324617, accuracy:0.898800\n",
      "epoch 33\n"
     ]
    },
    {
     "name": "stderr",
     "output_type": "stream",
     "text": [
      "100%|██████████| 351/351 [00:05<00:00, 64.82it/s]\n",
      "100%|██████████| 25/25 [00:00<00:00, 157.56it/s]\n"
     ]
    },
    {
     "name": "stdout",
     "output_type": "stream",
     "text": [
      "ce_loss:0.139155, l2_loss:0.319519, accuracy:0.952101\n",
      "test, loss:0.325569, accuracy:0.898200\n",
      "epoch 34\n"
     ]
    },
    {
     "name": "stderr",
     "output_type": "stream",
     "text": [
      "100%|██████████| 351/351 [00:05<00:00, 65.55it/s]\n",
      "100%|██████████| 25/25 [00:00<00:00, 187.89it/s]\n"
     ]
    },
    {
     "name": "stdout",
     "output_type": "stream",
     "text": [
      "ce_loss:0.133337, l2_loss:0.319682, accuracy:0.953214\n",
      "test, loss:0.328160, accuracy:0.897600\n",
      "epoch 35\n"
     ]
    },
    {
     "name": "stderr",
     "output_type": "stream",
     "text": [
      "100%|██████████| 351/351 [00:05<00:00, 66.57it/s]\n",
      "100%|██████████| 25/25 [00:00<00:00, 185.46it/s]\n"
     ]
    },
    {
     "name": "stdout",
     "output_type": "stream",
     "text": [
      "ce_loss:0.131158, l2_loss:0.319840, accuracy:0.955017\n",
      "test, loss:0.330702, accuracy:0.900200\n",
      "epoch 36\n"
     ]
    },
    {
     "name": "stderr",
     "output_type": "stream",
     "text": [
      "100%|██████████| 351/351 [00:05<00:00, 66.14it/s]\n",
      "100%|██████████| 25/25 [00:00<00:00, 181.95it/s]\n"
     ]
    },
    {
     "name": "stdout",
     "output_type": "stream",
     "text": [
      "ce_loss:0.126677, l2_loss:0.319994, accuracy:0.956130\n",
      "test, loss:0.338350, accuracy:0.898600\n",
      "epoch 37\n"
     ]
    },
    {
     "name": "stderr",
     "output_type": "stream",
     "text": [
      "100%|██████████| 351/351 [00:05<00:00, 66.91it/s]\n",
      "100%|██████████| 25/25 [00:00<00:00, 199.06it/s]\n"
     ]
    },
    {
     "name": "stdout",
     "output_type": "stream",
     "text": [
      "ce_loss:0.127427, l2_loss:0.320139, accuracy:0.954839\n",
      "test, loss:0.336898, accuracy:0.899200\n",
      "epoch 38\n"
     ]
    },
    {
     "name": "stderr",
     "output_type": "stream",
     "text": [
      "100%|██████████| 351/351 [00:05<00:00, 66.27it/s]\n",
      "100%|██████████| 25/25 [00:00<00:00, 186.82it/s]\n"
     ]
    },
    {
     "name": "stdout",
     "output_type": "stream",
     "text": [
      "ce_loss:0.120416, l2_loss:0.320292, accuracy:0.958600\n",
      "test, loss:0.333492, accuracy:0.901000\n",
      "epoch 39\n"
     ]
    },
    {
     "name": "stderr",
     "output_type": "stream",
     "text": [
      "100%|██████████| 351/351 [00:05<00:00, 66.28it/s]\n",
      "100%|██████████| 25/25 [00:00<00:00, 188.52it/s]\n"
     ]
    },
    {
     "name": "stdout",
     "output_type": "stream",
     "text": [
      "ce_loss:0.119491, l2_loss:0.320438, accuracy:0.958600\n",
      "test, loss:0.339234, accuracy:0.899800\n",
      "epoch 40\n"
     ]
    },
    {
     "name": "stderr",
     "output_type": "stream",
     "text": [
      "100%|██████████| 351/351 [00:05<00:00, 66.58it/s]\n",
      "100%|██████████| 25/25 [00:00<00:00, 180.98it/s]\n"
     ]
    },
    {
     "name": "stdout",
     "output_type": "stream",
     "text": [
      "ce_loss:0.117749, l2_loss:0.320583, accuracy:0.958600\n",
      "test, loss:0.340211, accuracy:0.898400\n",
      "epoch 41\n"
     ]
    },
    {
     "name": "stderr",
     "output_type": "stream",
     "text": [
      "100%|██████████| 351/351 [00:05<00:00, 66.37it/s]\n",
      "100%|██████████| 25/25 [00:00<00:00, 196.99it/s]\n"
     ]
    },
    {
     "name": "stdout",
     "output_type": "stream",
     "text": [
      "ce_loss:0.117538, l2_loss:0.320721, accuracy:0.958333\n",
      "test, loss:0.338817, accuracy:0.901600\n",
      "epoch 42\n"
     ]
    },
    {
     "name": "stderr",
     "output_type": "stream",
     "text": [
      "100%|██████████| 351/351 [00:05<00:00, 67.26it/s]\n",
      "100%|██████████| 25/25 [00:00<00:00, 172.27it/s]\n"
     ]
    },
    {
     "name": "stdout",
     "output_type": "stream",
     "text": [
      "ce_loss:0.112817, l2_loss:0.320869, accuracy:0.960470\n",
      "test, loss:0.352169, accuracy:0.896200\n",
      "epoch 43\n"
     ]
    },
    {
     "name": "stderr",
     "output_type": "stream",
     "text": [
      "100%|██████████| 351/351 [00:05<00:00, 66.76it/s]\n",
      "100%|██████████| 25/25 [00:00<00:00, 200.88it/s]\n"
     ]
    },
    {
     "name": "stdout",
     "output_type": "stream",
     "text": [
      "ce_loss:0.111133, l2_loss:0.321010, accuracy:0.961850\n",
      "test, loss:0.348895, accuracy:0.898000\n",
      "epoch 44\n"
     ]
    },
    {
     "name": "stderr",
     "output_type": "stream",
     "text": [
      "100%|██████████| 351/351 [00:05<00:00, 67.17it/s]\n",
      "100%|██████████| 25/25 [00:00<00:00, 193.11it/s]\n"
     ]
    },
    {
     "name": "stdout",
     "output_type": "stream",
     "text": [
      "ce_loss:0.111757, l2_loss:0.321148, accuracy:0.961249\n",
      "test, loss:0.347527, accuracy:0.898800\n",
      "epoch 45\n"
     ]
    },
    {
     "name": "stderr",
     "output_type": "stream",
     "text": [
      "100%|██████████| 351/351 [00:05<00:00, 65.84it/s]\n",
      "100%|██████████| 25/25 [00:00<00:00, 186.02it/s]\n"
     ]
    },
    {
     "name": "stdout",
     "output_type": "stream",
     "text": [
      "ce_loss:0.108280, l2_loss:0.321293, accuracy:0.963341\n",
      "test, loss:0.348654, accuracy:0.899600\n",
      "epoch 46\n"
     ]
    },
    {
     "name": "stderr",
     "output_type": "stream",
     "text": [
      "100%|██████████| 351/351 [00:05<00:00, 65.48it/s]\n",
      "100%|██████████| 25/25 [00:00<00:00, 185.15it/s]\n"
     ]
    },
    {
     "name": "stdout",
     "output_type": "stream",
     "text": [
      "ce_loss:0.106111, l2_loss:0.321441, accuracy:0.963297\n",
      "test, loss:0.350470, accuracy:0.901200\n",
      "epoch 47\n"
     ]
    },
    {
     "name": "stderr",
     "output_type": "stream",
     "text": [
      "100%|██████████| 351/351 [00:05<00:00, 65.25it/s]\n",
      "100%|██████████| 25/25 [00:00<00:00, 183.77it/s]\n"
     ]
    },
    {
     "name": "stdout",
     "output_type": "stream",
     "text": [
      "ce_loss:0.107140, l2_loss:0.321579, accuracy:0.963186\n",
      "test, loss:0.351317, accuracy:0.901600\n",
      "epoch 48\n"
     ]
    },
    {
     "name": "stderr",
     "output_type": "stream",
     "text": [
      "100%|██████████| 351/351 [00:05<00:00, 66.64it/s]\n",
      "100%|██████████| 25/25 [00:00<00:00, 197.58it/s]\n"
     ]
    },
    {
     "name": "stdout",
     "output_type": "stream",
     "text": [
      "ce_loss:0.106091, l2_loss:0.321719, accuracy:0.961984\n",
      "test, loss:0.356498, accuracy:0.898800\n",
      "epoch 49\n"
     ]
    },
    {
     "name": "stderr",
     "output_type": "stream",
     "text": [
      "100%|██████████| 351/351 [00:05<00:00, 67.32it/s]\n",
      "100%|██████████| 25/25 [00:00<00:00, 188.64it/s]\n"
     ]
    },
    {
     "name": "stdout",
     "output_type": "stream",
     "text": [
      "ce_loss:0.105660, l2_loss:0.321865, accuracy:0.962184\n",
      "test, loss:0.357550, accuracy:0.903200\n",
      "epoch 50\n"
     ]
    },
    {
     "name": "stderr",
     "output_type": "stream",
     "text": [
      "100%|██████████| 351/351 [00:05<00:00, 67.86it/s]\n",
      "100%|██████████| 25/25 [00:00<00:00, 187.68it/s]\n"
     ]
    },
    {
     "name": "stdout",
     "output_type": "stream",
     "text": [
      "ce_loss:0.098746, l2_loss:0.321878, accuracy:0.965033\n",
      "test, loss:0.351295, accuracy:0.903400\n",
      "epoch 51\n"
     ]
    },
    {
     "name": "stderr",
     "output_type": "stream",
     "text": [
      "100%|██████████| 351/351 [00:05<00:00, 67.47it/s]\n",
      "100%|██████████| 25/25 [00:00<00:00, 187.85it/s]\n"
     ]
    },
    {
     "name": "stdout",
     "output_type": "stream",
     "text": [
      "ce_loss:0.098734, l2_loss:0.321886, accuracy:0.965856\n",
      "test, loss:0.352760, accuracy:0.901600\n",
      "epoch 52\n"
     ]
    },
    {
     "name": "stderr",
     "output_type": "stream",
     "text": [
      "100%|██████████| 351/351 [00:05<00:00, 67.51it/s]\n",
      "100%|██████████| 25/25 [00:00<00:00, 180.70it/s]\n"
     ]
    },
    {
     "name": "stdout",
     "output_type": "stream",
     "text": [
      "ce_loss:0.095281, l2_loss:0.321894, accuracy:0.966814\n",
      "test, loss:0.353025, accuracy:0.901600\n",
      "epoch 53\n"
     ]
    },
    {
     "name": "stderr",
     "output_type": "stream",
     "text": [
      "100%|██████████| 351/351 [00:05<00:00, 68.07it/s]\n",
      "100%|██████████| 25/25 [00:00<00:00, 193.31it/s]\n"
     ]
    },
    {
     "name": "stdout",
     "output_type": "stream",
     "text": [
      "ce_loss:0.094700, l2_loss:0.321903, accuracy:0.967971\n",
      "test, loss:0.355025, accuracy:0.903800\n",
      "epoch 54\n"
     ]
    },
    {
     "name": "stderr",
     "output_type": "stream",
     "text": [
      "100%|██████████| 351/351 [00:06<00:00, 57.74it/s]\n",
      "100%|██████████| 25/25 [00:00<00:00, 192.83it/s]\n"
     ]
    },
    {
     "name": "stdout",
     "output_type": "stream",
     "text": [
      "ce_loss:0.095778, l2_loss:0.321911, accuracy:0.966435\n",
      "test, loss:0.354367, accuracy:0.901200\n",
      "epoch 55\n"
     ]
    },
    {
     "name": "stderr",
     "output_type": "stream",
     "text": [
      "100%|██████████| 351/351 [00:05<00:00, 68.50it/s]\n",
      "100%|██████████| 25/25 [00:00<00:00, 187.25it/s]\n"
     ]
    },
    {
     "name": "stdout",
     "output_type": "stream",
     "text": [
      "ce_loss:0.092997, l2_loss:0.321920, accuracy:0.968216\n",
      "test, loss:0.353818, accuracy:0.902600\n",
      "epoch 56\n"
     ]
    },
    {
     "name": "stderr",
     "output_type": "stream",
     "text": [
      "100%|██████████| 351/351 [00:05<00:00, 67.88it/s]\n",
      "100%|██████████| 25/25 [00:00<00:00, 197.76it/s]\n"
     ]
    },
    {
     "name": "stdout",
     "output_type": "stream",
     "text": [
      "ce_loss:0.092868, l2_loss:0.321929, accuracy:0.968060\n",
      "test, loss:0.356022, accuracy:0.901200\n",
      "epoch 57\n"
     ]
    },
    {
     "name": "stderr",
     "output_type": "stream",
     "text": [
      "100%|██████████| 351/351 [00:05<00:00, 67.19it/s]\n",
      "100%|██████████| 25/25 [00:00<00:00, 190.49it/s]\n"
     ]
    },
    {
     "name": "stdout",
     "output_type": "stream",
     "text": [
      "ce_loss:0.091941, l2_loss:0.321938, accuracy:0.968483\n",
      "test, loss:0.359352, accuracy:0.901800\n",
      "epoch 58\n"
     ]
    },
    {
     "name": "stderr",
     "output_type": "stream",
     "text": [
      "100%|██████████| 351/351 [00:05<00:00, 67.43it/s]\n",
      "100%|██████████| 25/25 [00:00<00:00, 191.69it/s]\n"
     ]
    },
    {
     "name": "stdout",
     "output_type": "stream",
     "text": [
      "ce_loss:0.094567, l2_loss:0.321946, accuracy:0.966925\n",
      "test, loss:0.356618, accuracy:0.901200\n",
      "epoch 59\n"
     ]
    },
    {
     "name": "stderr",
     "output_type": "stream",
     "text": [
      "100%|██████████| 351/351 [00:05<00:00, 67.48it/s]\n",
      "100%|██████████| 25/25 [00:00<00:00, 205.78it/s]"
     ]
    },
    {
     "name": "stdout",
     "output_type": "stream",
     "text": [
      "ce_loss:0.091481, l2_loss:0.321955, accuracy:0.968372\n",
      "test, loss:0.355632, accuracy:0.900400\n"
     ]
    },
    {
     "name": "stderr",
     "output_type": "stream",
     "text": [
      "\n"
     ]
    }
   ],
   "source": [
    "# train\n",
    "learning_rate_schedules = tf.optimizers.schedules.PiecewiseConstantDecay(boundaries, learning_rate)\n",
    "optimizer = tf.optimizers.SGD(learning_rate=learning_rate_schedules, momentum=0.9, nesterov=True)\n",
    "# optimizer = tf.optimizers.Adam()\n",
    "train_loss = []\n",
    "train_acc = []\n",
    "val_loss = []\n",
    "val_acc = []\n",
    "for epoch in range(epoch_num):\n",
    "    print('epoch %d' % epoch)\n",
    "    loss, acc = train(model, optimizer, x_train, y_train)\n",
    "    train_loss.append(loss)\n",
    "    train_acc.append(acc)\n",
    "    \n",
    "    loss, acc = test(model, x_val, y_val)\n",
    "    val_loss.append(loss)\n",
    "    val_acc.append(acc)"
   ]
  },
  {
   "cell_type": "code",
   "execution_count": 4,
   "id": "sensitive-belgium",
   "metadata": {},
   "outputs": [
    {
     "data": {
      "image/png": "[encoded data removed]",
      "text/plain": [
       "<Figure size 504x432 with 1 Axes>"
      ]
     },
     "metadata": {
      "needs_background": "light"
     },
     "output_type": "display_data"
    }
   ],
   "source": [
    "import matplotlib.pyplot as plt\n",
    "import numpy as np\n",
    "x = np.arange(epoch_num)\n",
    "const_x1 = [30]*20\n",
    "const_x2 = [50]*20\n",
    "const_y = np.linspace(0,1.3,20)\n",
    "plt.figure(figsize=(7,6))\n",
    "plt.plot(x, train_loss)\n",
    "plt.plot(x, val_loss)\n",
    "plt.plot(const_x1, const_y)\n",
    "plt.plot(const_x2, const_y)\n",
    "\n",
    "plt.xlabel(\"epoch\")\n",
    "plt.ylabel(\"loss\")\n",
    "plt.legend([\"train_loss\", \"val_loss\"])\n",
    "plt.show()\n"
   ]
  },
  {
   "cell_type": "code",
   "execution_count": 5,
   "id": "stuffed-pavilion",
   "metadata": {},
   "outputs": [
    {
     "data": {
      "image/png": "[encoded data removed]",
      "text/plain": [
       "<Figure size 504x432 with 1 Axes>"
      ]
     },
     "metadata": {
      "needs_background": "light"
     },
     "output_type": "display_data"
    }
   ],
   "source": [
    "const_x1 = [30]*20\n",
    "const_x2 = [50]*20\n",
    "const_y = np.linspace(0,1.3,20)\n",
    "\n",
    "plt.figure(figsize=(7,6))\n",
    "plt.plot(x, train_acc)\n",
    "plt.plot(x, val_acc)\n",
    "\n",
    "plt.plot(const_x1, const_y)\n",
    "plt.plot(const_x2, const_y)\n",
    "\n",
    "plt.xlabel(\"epoch\")\n",
    "plt.ylabel(\"accuracy\")\n",
    "plt.legend([\"train_acc\", \"val_acc\"])\n",
    "plt.show()"
   ]
  },
  {
   "cell_type": "code",
   "execution_count": 6,
   "id": "knowing-nitrogen",
   "metadata": {},
   "outputs": [
    {
     "name": "stderr",
     "output_type": "stream",
     "text": [
      "100%|██████████| 25/25 [00:00<00:00, 113.25it/s]"
     ]
    },
    {
     "name": "stdout",
     "output_type": "stream",
     "text": [
      "test, loss:0.405627, accuracy:0.895400\n"
     ]
    },
    {
     "name": "stderr",
     "output_type": "stream",
     "text": [
      "\n"
     ]
    }
   ],
   "source": [
    "# test\n",
    "test_batch_size = 200\n",
    "test_num = 10000\n",
    "test_loss = []\n",
    "test_val = []\n",
    "test_iterations = int(test_num / test_batch_size)\n",
    "loss, acc = test(model, test_images, test_labels)"
   ]
  },
  {
   "cell_type": "code",
   "execution_count": null,
   "id": "improved-personality",
   "metadata": {},
   "outputs": [],
   "source": []
  }
 ],
 "metadata": {
  "kernelspec": {
   "display_name": "Python 3",
   "language": "python",
   "name": "python3"
  },
  "language_info": {
   "codemirror_mode": {
    "name": "ipython",
    "version": 3
   },
   "file_extension": ".py",
   "mimetype": "text/x-python",
   "name": "python",
   "nbconvert_exporter": "python",
   "pygments_lexer": "ipython3",
   "version": "3.6.8"
  }
 },
 "nbformat": 4,
 "nbformat_minor": 5
}
